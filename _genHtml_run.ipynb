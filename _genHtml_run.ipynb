{
 "cells": [
  {
   "cell_type": "code",
   "execution_count": 1,
   "id": "c1c8df39",
   "metadata": {
    "scrolled": false
   },
   "outputs": [
    {
     "name": "stderr",
     "output_type": "stream",
     "text": [
      "C:\\Users\\user\\anaconda3\\lib\\site-packages\\mpl_finance.py:16: DeprecationWarning: \n",
      "\n",
      "  =================================================================\n",
      "\n",
      "   WARNING: `mpl_finance` is deprecated:\n",
      "\n",
      "    Please use `mplfinance` instead (no hyphen, no underscore).\n",
      "\n",
      "    To install: `pip install --upgrade mplfinance` \n",
      "\n",
      "   For more information, see: https://pypi.org/project/mplfinance/\n",
      "\n",
      "  =================================================================\n",
      "\n",
      "  __warnings.warn('\\n\\n  ================================================================='+\n"
     ]
    }
   ],
   "source": [
    "import os\n",
    "from datetime import datetime, timedelta\n",
    "\n",
    "%run _genHtml.ipynb"
   ]
  },
  {
   "cell_type": "code",
   "execution_count": 2,
   "id": "4ccae35a",
   "metadata": {},
   "outputs": [],
   "source": [
    "def delAllFile(folder):\n",
    "    fileList = os.listdir(folder)\n",
    "    for f in fileList:\n",
    "        filePath = folder + '/'+f\n",
    "\n",
    "        if os.path.isfile(filePath):\n",
    "            os.remove(filePath)\n",
    "\n",
    "        elif os.path.isdir(filePath):\n",
    "            newFileList = os.listdir(filePath)\n",
    "            for f1 in newFileList:\n",
    "                insideFilePath = filePath + '/' + f1\n",
    "\n",
    "                if os.path.isfile(insideFilePath):\n",
    "                    os.remove(insideFilePath)"
   ]
  },
  {
   "cell_type": "code",
   "execution_count": 3,
   "id": "14556cd1",
   "metadata": {},
   "outputs": [
    {
     "data": {
      "text/plain": [
       "'114/02/20'"
      ]
     },
     "execution_count": 3,
     "metadata": {},
     "output_type": "execute_result"
    }
   ],
   "source": [
    "\n",
    "start_month = '2023-01-01'\n",
    "start_date = datetime.strptime(start_month, \"%Y-%m-%d\").date()\n",
    "today = datetime.today().date()\n",
    "\n",
    "def to_roc(date_obj):\n",
    "    roc_year = date_obj.year - 1911\n",
    "    return f\"{roc_year}/{date_obj.month:02d}/{date_obj.day:02d}\"\n",
    "\n",
    "end_time_list = []\n",
    "current_date = start_date\n",
    "while current_date <= today:\n",
    "    end_time_list.append(to_roc(current_date))\n",
    "    current_date += timedelta(days=1)\n",
    "\n",
    "end_time_list=end_time_list[-20:]\n",
    "\n",
    "min(end_time_list) "
   ]
  },
  {
   "cell_type": "markdown",
   "id": "31a3b866",
   "metadata": {},
   "source": [
    "## 【Run】 跑全部歷史數據"
   ]
  },
  {
   "cell_type": "code",
   "execution_count": 4,
   "id": "7dc301f9",
   "metadata": {},
   "outputs": [
    {
     "name": "stdout",
     "output_type": "stream",
     "text": [
      "2025-02-20 00:00:00\n",
      "2025-02-20 00:00:00\n",
      "2025-02-21 00:00:00\n",
      "2025-02-20 00:00:00\n",
      "2025-02-24 00:00:00\n",
      "2025-02-20 00:00:00\n",
      "2025-02-25 00:00:00\n",
      "2025-02-20 00:00:00\n",
      "2025-02-26 00:00:00\n",
      "2025-02-20 00:00:00\n",
      "2025-02-27 00:00:00\n",
      "2025-02-20 00:00:00\n",
      "2025-03-03 00:00:00\n",
      "2025-02-20 00:00:00\n",
      "2025-03-04 00:00:00\n",
      "2025-02-20 00:00:00\n",
      "2025-03-05 00:00:00\n",
      "2025-02-20 00:00:00\n",
      "2025-03-06 00:00:00\n",
      "2025-02-20 00:00:00\n",
      "2025-03-07 00:00:00\n",
      "2025-02-20 00:00:00\n",
      "2025-03-10 00:00:00\n",
      "2025-02-20 00:00:00\n",
      "2025-03-11 00:00:00\n",
      "2025-02-20 00:00:00\n",
      "2025-02-20 00:00:00\n",
      "2025-02-20 00:00:00\n",
      "2025-02-21 00:00:00\n",
      "2025-02-20 00:00:00\n",
      "2025-02-24 00:00:00\n",
      "2025-02-20 00:00:00\n",
      "2025-02-25 00:00:00\n",
      "2025-02-20 00:00:00\n",
      "2025-02-26 00:00:00\n",
      "2025-02-20 00:00:00\n",
      "2025-02-27 00:00:00\n",
      "2025-02-20 00:00:00\n",
      "2025-03-03 00:00:00\n",
      "2025-02-20 00:00:00\n",
      "2025-03-04 00:00:00\n",
      "2025-02-20 00:00:00\n",
      "2025-03-05 00:00:00\n",
      "2025-02-20 00:00:00\n",
      "2025-03-06 00:00:00\n",
      "2025-02-20 00:00:00\n",
      "2025-03-07 00:00:00\n",
      "2025-02-20 00:00:00\n",
      "2025-03-10 00:00:00\n",
      "2025-02-20 00:00:00\n",
      "2025-03-11 00:00:00\n",
      "2025-02-20 00:00:00\n",
      "All stocks processed.\n",
      "start time2025/03/11 21:57:27\n",
      "end time2025/03/11 22:37:41\n"
     ]
    }
   ],
   "source": [
    "# 分割資料，取前 500 個和其餘的股票代號\n",
    "first_500_codes = _baseInfo[_baseInfo['Type'] == '上市'].dropna()['公司代號']\n",
    "remaining_codes = _baseInfo[_baseInfo['Type'] != '上市'].dropna()['公司代號']\n",
    "\n",
    "\n",
    "if True: \n",
    "    starttime=datetime.now()\n",
    "    # 創建兩個執行緒，分別處理前 500 個和其餘股票代號\n",
    "    thread1 = threading.Thread(target=process_stock_list, args=(first_500_codes,))\n",
    "    thread2 = threading.Thread(target=process_stock_list, args=(remaining_codes,))\n",
    "    # 啟動執行緒\n",
    "    thread1.start()\n",
    "    thread2.start()\n",
    "    # 等待兩個執行緒完成\n",
    "    thread1.join()\n",
    "    thread2.join()\n",
    "    \n",
    "    delAllFile('./Result/DailyRunRealTimeStock/')\n",
    "    delAllFile('./Result/DailyFiles/')\n",
    "    \n",
    "    save_data_by_date(df_save_old_RunRealTimeStock,\"Result/DailyRunRealTimeStock\")\n",
    "    save_data_by_date(df_save_df_to_excel,\"Result/DailyFiles\")\n",
    "\n",
    "    print(\"All stocks processed.\")\n",
    "    print(\"start time\" + starttime.strftime(\"%Y/%m/%d %H:%M:%S\"))\n",
    "    print(\"end time\" + datetime.now().strftime(\"%Y/%m/%d %H:%M:%S\"))\n"
   ]
  },
  {
   "cell_type": "code",
   "execution_count": null,
   "id": "beef6ff2",
   "metadata": {},
   "outputs": [],
   "source": []
  },
  {
   "cell_type": "code",
   "execution_count": null,
   "id": "f11ec40f",
   "metadata": {},
   "outputs": [],
   "source": []
  }
 ],
 "metadata": {
  "kernelspec": {
   "display_name": "Python 3 (ipykernel)",
   "language": "python",
   "name": "python3"
  },
  "language_info": {
   "codemirror_mode": {
    "name": "ipython",
    "version": 3
   },
   "file_extension": ".py",
   "mimetype": "text/x-python",
   "name": "python",
   "nbconvert_exporter": "python",
   "pygments_lexer": "ipython3",
   "version": "3.10.9"
  }
 },
 "nbformat": 4,
 "nbformat_minor": 5
}
