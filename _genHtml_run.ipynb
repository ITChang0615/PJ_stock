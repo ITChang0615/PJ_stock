{
 "cells": [
  {
   "cell_type": "code",
   "execution_count": 1,
   "id": "c1c8df39",
   "metadata": {
    "scrolled": false
   },
   "outputs": [
    {
     "name": "stderr",
     "output_type": "stream",
     "text": [
      "C:\\Users\\user\\anaconda3\\lib\\site-packages\\mpl_finance.py:16: DeprecationWarning: \n",
      "\n",
      "  =================================================================\n",
      "\n",
      "   WARNING: `mpl_finance` is deprecated:\n",
      "\n",
      "    Please use `mplfinance` instead (no hyphen, no underscore).\n",
      "\n",
      "    To install: `pip install --upgrade mplfinance` \n",
      "\n",
      "   For more information, see: https://pypi.org/project/mplfinance/\n",
      "\n",
      "  =================================================================\n",
      "\n",
      "  __warnings.warn('\\n\\n  ================================================================='+\n"
     ]
    }
   ],
   "source": [
    "%run _genHtml.ipynb"
   ]
  },
  {
   "cell_type": "code",
   "execution_count": 2,
   "id": "4ccae35a",
   "metadata": {},
   "outputs": [],
   "source": [
    "import os\n",
    "\n",
    "def delAllFile(folder):\n",
    "\n",
    "    fileList = os.listdir(folder)\n",
    "    for f in fileList:\n",
    "        filePath = folder + '/'+f\n",
    "\n",
    "        if os.path.isfile(filePath):\n",
    "            os.remove(filePath)\n",
    "\n",
    "        elif os.path.isdir(filePath):\n",
    "            newFileList = os.listdir(filePath)\n",
    "            for f1 in newFileList:\n",
    "                insideFilePath = filePath + '/' + f1\n",
    "\n",
    "                if os.path.isfile(insideFilePath):\n",
    "                    os.remove(insideFilePath)\n",
    "                    \n",
    "\n"
   ]
  },
  {
   "cell_type": "markdown",
   "id": "31a3b866",
   "metadata": {},
   "source": [
    "## 【Run】 跑全部歷史數據"
   ]
  },
  {
   "cell_type": "code",
   "execution_count": null,
   "id": "7dc301f9",
   "metadata": {},
   "outputs": [],
   "source": [
    "start_month = '2023-01-01'\n",
    "end_time_list = [\n",
    "   # '114/02/05', \n",
    "    '114/02/04', '114/02/03', \n",
    "    '114/01/22',   '114/01/21', '114/01/20', \n",
    "    '114/01/17',  '114/01/16','114/01/15',  '114/01/14','114/01/13',\n",
    "    '113/01/14',\n",
    "\n",
    "]\n",
    "\n",
    "# 分割資料，取前 500 個和其餘的股票代號\n",
    "first_500_codes = _baseInfo[_baseInfo['Type'] == '上市'].dropna()['公司代號']\n",
    "remaining_codes = _baseInfo[_baseInfo['Type'] != '上市'].dropna()['公司代號']\n",
    "\n",
    "\n",
    "if True: \n",
    "    starttime=datetime.now()\n",
    "    # 創建兩個執行緒，分別處理前 500 個和其餘股票代號\n",
    "    thread1 = threading.Thread(target=process_stock_list, args=(first_500_codes,))\n",
    "    thread2 = threading.Thread(target=process_stock_list, args=(remaining_codes,))\n",
    "    # 啟動執行緒\n",
    "    thread1.start()\n",
    "    thread2.start()\n",
    "    # 等待兩個執行緒完成\n",
    "    thread1.join()\n",
    "    thread2.join()\n",
    "    \n",
    "    delAllFile('./Result/DailyRunRealTimeStock/')\n",
    "    delAllFile('./Result/DailyFiles/')\n",
    "    \n",
    "    save_data_by_date(df_save_old_RunRealTimeStock,\"Result/DailyRunRealTimeStock\")\n",
    "    save_data_by_date(df_save_df_to_excel,\"Result/DailyFiles\")\n",
    "\n",
    "    print(\"All stocks processed.\")\n",
    "    print(\"start time\" + starttime.strftime(\"%Y/%m/%d %H:%M:%S\"))\n",
    "    print(\"end time\" + datetime.now().strftime(\"%Y/%m/%d %H:%M:%S\"))\n"
   ]
  },
  {
   "cell_type": "markdown",
   "id": "6e8fbb13",
   "metadata": {},
   "source": [
    "## 【Run】補當天少的資料  (不用爬蟲)"
   ]
  },
  {
   "cell_type": "markdown",
   "id": "666e0cea",
   "metadata": {},
   "source": [
    "df_info=_baseInfo.copy()\n",
    "fullpath = 'D:\\\\Project\\\\Jupyter\\\\Stock\\\\Main\\\\Result\\\\DailyFiles\\\\2024-11-18.xlsx'\n",
    "my=pd.read_excel(fullpath)\n",
    "\n",
    "df_info['公司代號']=df_info['公司代號'].astype(str)\n",
    "my['stock_number']=my['stock_number'].astype(str)\n",
    "\n",
    "# 找出只在 df_info 中存在，但不在 my 中的 stock_number\n",
    "\n",
    "aa=df_info[~df_info['公司代號'].isin(my['stock_number'])]\n",
    "\n",
    "\n",
    "\n",
    "start_month = '2023-01-01'\n",
    "end_time_list = ['113/11/18',\n",
    "                 '113/11/15','113/11/14', '113/11/13', '113/11/12', '113/11/11',\n",
    "                 '113/11/08', '113/11/07', '113/11/06', '113/11/05', '113/11/04']\n",
    "stock_codes=list(set(aa.dropna()['公司代號']))\n",
    "\n",
    "\n",
    "for code in stock_codes:\n",
    "    process_stock_codes(code)\n",
    "save_data_by_date(df_save_old_RunRealTimeStock,\"Result/DailyRunRealTimeStock\")\n",
    "save_data_by_date(df_save_df_to_excel,\"Result/DailyFiles\")\n"
   ]
  },
  {
   "cell_type": "code",
   "execution_count": null,
   "id": "beef6ff2",
   "metadata": {},
   "outputs": [],
   "source": []
  }
 ],
 "metadata": {
  "kernelspec": {
   "display_name": "Python 3 (ipykernel)",
   "language": "python",
   "name": "python3"
  },
  "language_info": {
   "codemirror_mode": {
    "name": "ipython",
    "version": 3
   },
   "file_extension": ".py",
   "mimetype": "text/x-python",
   "name": "python",
   "nbconvert_exporter": "python",
   "pygments_lexer": "ipython3",
   "version": "3.10.9"
  }
 },
 "nbformat": 4,
 "nbformat_minor": 5
}
