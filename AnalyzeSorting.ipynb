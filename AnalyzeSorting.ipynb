{
 "cells": [
  {
   "cell_type": "code",
   "execution_count": 2,
   "id": "de3b2d7e",
   "metadata": {},
   "outputs": [],
   "source": [
    "from os import listdir\n",
    "from os.path import isfile, isdir, join\n",
    "from os import walk\n",
    "import pandas as pd\n",
    "import numpy as np"
   ]
  },
  {
   "cell_type": "code",
   "execution_count": 3,
   "id": "53c53f1c",
   "metadata": {},
   "outputs": [],
   "source": [
    "mypath = \"D:\\Project\\Jupyter\\Stock\\Main\\log\\check\"\n",
    "files = listdir(mypath)"
   ]
  },
  {
   "cell_type": "code",
   "execution_count": 6,
   "id": "9e9ede31",
   "metadata": {},
   "outputs": [
    {
     "name": "stdout",
     "output_type": "stream",
     "text": [
      "08_12\n",
      "08_13\n",
      "08_14\n",
      "08_15\n",
      "08_16\n"
     ]
    },
    {
     "name": "stderr",
     "output_type": "stream",
     "text": [
      "C:\\Users\\user\\AppData\\Local\\Temp\\ipykernel_45324\\1647157584.py:9: FutureWarning: Passing 'suffixes' which cause duplicate columns {'SN_x', '過壓力區_x'} in the result is deprecated and will raise a MergeError in a future version.\n",
      "  df=pd.merge(df, _df, left_on='stock_number', right_on='stock_number', how='left')\n",
      "C:\\Users\\user\\AppData\\Local\\Temp\\ipykernel_45324\\1647157584.py:9: FutureWarning: Passing 'suffixes' which cause duplicate columns {'SN_x', '過壓力區_x'} in the result is deprecated and will raise a MergeError in a future version.\n",
      "  df=pd.merge(df, _df, left_on='stock_number', right_on='stock_number', how='left')\n"
     ]
    },
    {
     "name": "stdout",
     "output_type": "stream",
     "text": [
      "08_19\n",
      "08_20\n",
      "08_21\n"
     ]
    },
    {
     "name": "stderr",
     "output_type": "stream",
     "text": [
      "C:\\Users\\user\\AppData\\Local\\Temp\\ipykernel_45324\\1647157584.py:9: FutureWarning: Passing 'suffixes' which cause duplicate columns {'SN_x', '過壓力區_x'} in the result is deprecated and will raise a MergeError in a future version.\n",
      "  df=pd.merge(df, _df, left_on='stock_number', right_on='stock_number', how='left')\n",
      "C:\\Users\\user\\AppData\\Local\\Temp\\ipykernel_45324\\1647157584.py:9: FutureWarning: Passing 'suffixes' which cause duplicate columns {'SN_x', '過壓力區_x'} in the result is deprecated and will raise a MergeError in a future version.\n",
      "  df=pd.merge(df, _df, left_on='stock_number', right_on='stock_number', how='left')\n"
     ]
    },
    {
     "name": "stdout",
     "output_type": "stream",
     "text": [
      "08_22\n",
      "08_26\n",
      "08_27\n",
      "08_28\n",
      "08_29\n"
     ]
    },
    {
     "name": "stderr",
     "output_type": "stream",
     "text": [
      "C:\\Users\\user\\AppData\\Local\\Temp\\ipykernel_45324\\1647157584.py:9: FutureWarning: Passing 'suffixes' which cause duplicate columns {'SN_x', '過壓力區_x'} in the result is deprecated and will raise a MergeError in a future version.\n",
      "  df=pd.merge(df, _df, left_on='stock_number', right_on='stock_number', how='left')\n"
     ]
    }
   ],
   "source": [
    "df=pd.DataFrame()\n",
    "for root, dirs, files in walk(mypath):\n",
    "    for f in files:\n",
    "        fullpath = join(root, f)\n",
    "        if df.shape[0]==0:\n",
    "            df=pd.read_excel(fullpath)\n",
    "        else:\n",
    "            _df=pd.read_excel(fullpath)\n",
    "            df=pd.merge(df, _df, left_on='stock_number', right_on='stock_number', how='left')\n",
    "        print(f.replace('.xlsx','').replace('check_2024_',''))"
   ]
  },
  {
   "cell_type": "code",
   "execution_count": 6,
   "id": "4779261c",
   "metadata": {},
   "outputs": [],
   "source": [
    "df.to_excel('to_excel.xlsx', index=False)"
   ]
  }
 ],
 "metadata": {
  "kernelspec": {
   "display_name": "Python 3 (ipykernel)",
   "language": "python",
   "name": "python3"
  },
  "language_info": {
   "codemirror_mode": {
    "name": "ipython",
    "version": 3
   },
   "file_extension": ".py",
   "mimetype": "text/x-python",
   "name": "python",
   "nbconvert_exporter": "python",
   "pygments_lexer": "ipython3",
   "version": "3.10.9"
  }
 },
 "nbformat": 4,
 "nbformat_minor": 5
}
