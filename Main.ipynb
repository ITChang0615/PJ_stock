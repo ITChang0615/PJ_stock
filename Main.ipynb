{
 "cells": [
  {
   "cell_type": "markdown",
   "id": "2401f7cc",
   "metadata": {},
   "source": [
    "# 目的"
   ]
  },
  {
   "cell_type": "markdown",
   "id": "eb403921",
   "metadata": {},
   "source": [
    "#每日收盤後開始爬股價\n",
    "\n",
    "#可以視情況條種是否抓營收，大概都隔月的10 後營收才會公布"
   ]
  },
  {
   "cell_type": "markdown",
   "id": "0b431e84",
   "metadata": {},
   "source": [
    "## 【資料源】\n",
    "來自 _BaseInfo  _CrawBase 會先去取基本相關資料 (股票號碼...等)\n",
    "\n",
    "## 【輸出】\n",
    "股票相關推薦圖表/數據"
   ]
  },
  {
   "cell_type": "code",
   "execution_count": null,
   "id": "73dcfc64",
   "metadata": {},
   "outputs": [],
   "source": [
    "import pandas as pd"
   ]
  },
  {
   "cell_type": "markdown",
   "id": "f5a2a5be",
   "metadata": {},
   "source": [
    "#  Update Base Info"
   ]
  },
  {
   "cell_type": "code",
   "execution_count": null,
   "id": "16344e8f",
   "metadata": {},
   "outputs": [],
   "source": [
    " \n",
    "#%run _BaseInfoETF.ipynb\n",
    "%run _CrawBase.ipynb\n",
    "#%run _LineMsg.ipynb\n",
    "%run _genHtml.ipynb"
   ]
  },
  {
   "cell_type": "markdown",
   "id": "be676b6a",
   "metadata": {},
   "source": [
    "%run RunRealTimeStock.ipynb"
   ]
  },
  {
   "cell_type": "code",
   "execution_count": null,
   "id": "8fd8eaec",
   "metadata": {},
   "outputs": [],
   "source": [
    "def MainStock(stock_number, start_month,end_time=datetime.now().strftime(\"%Y-%m-%d\"),updateRevenue=False):  \n",
    "    strmsg ='【stock_number】'+stock_number+'\\n' +'【start_month】'+start_month+'\\n'+'【end_time】'+end_time+'\\n' \n",
    "    try:\n",
    "        #處理 Stock\n",
    "        RowData_df_craw_stock,His_Stock ,isSuccess= craw_stock(stock_number,start_month,end_time)\n",
    "        #data_final,df_final=DataCleaning(RowData_df_craw_stock)\n",
    "        print(\"【craw_stock】 success\")\n",
    "        \n",
    "        #處理 Revenue\n",
    "        if(updateRevenue):\n",
    "            RowData_df_craw_revenue,His_Stock=craw_revenue(stock_number)\n",
    "            df_Revenue=RevenueDataCleaning(RowData_df_craw_revenue)\n",
    "            print(\"【craw_revenue】 success\")\n",
    "            \n",
    "        #處理相關指標轉成html \n",
    "        stock_data=data_process(RowData_df_craw_stock)\n",
    "        \n",
    "        level,interval_type, lower_bound, upper_bound=get_interval(stock_data.iloc[-1]['收盤價'],np.array(stock_data['收盤價']))\n",
    "        stock_data['stock_number']=stock_number\n",
    "        stock_data['level']=level\n",
    "        stock_data['interval_type']=interval_type\n",
    "        stock_data['lower_bound']=lower_bound\n",
    "        stock_data['upper_bound']=upper_bound\n",
    "        save_df_to_excel(stock_data)\n",
    "        gen_html(stock_number,stock_data)\n",
    "\n",
    "        #sendLineMessage('成功'+'\\n'+strmsg )\n",
    "    except:\n",
    "        #sendLineMessage('失败'+'\\n'+strmsg)\n",
    "        print('MainStock Fail'+'\\n'+strmsg)\n",
    "        \n",
    "    #return data_final,df_final,df_Revenue\n",
    "    "
   ]
  },
  {
   "cell_type": "markdown",
   "id": "b9fc094a",
   "metadata": {},
   "source": [
    "# 清資料使用\n",
    "type_='Stock_His'\n",
    "strMonth = (datetime.now() - timedelta(days=2)).strftime('%Y-%m-01')\n",
    "df=get_DB()\n",
    "df[~((df['status'] != 'OK')& (df['status'] != '很抱歉，沒有符合條件的資料!'))].to_csv('BaseInfo/His_Stock.csv',index=False) \n",
    "DDD=df[((df['status'] != 'OK')& (df['status'] != '很抱歉，沒有符合條件的資料!'))]['stock_number'].unique()"
   ]
  },
  {
   "cell_type": "code",
   "execution_count": null,
   "id": "25815f64",
   "metadata": {},
   "outputs": [],
   "source": [
    "start_month='2023-01-01'  #起始月份\n",
    "want_update_Stock=True\n",
    "want_update_Revenue=False\n",
    "file_path = 'D:\\Project\\Jupyter\\Stock\\Main\\DailyResultLast.xlsx'   \n",
    "\n",
    "for code in _baseInfo.dropna()['公司代號']:#.iloc[::-1]:\n",
    "#for code in DDD:\n",
    "    stock_number=str(code)\n",
    "    if (want_update_Stock):        \n",
    "        type_='Stock_His'\n",
    "        strMonth = (datetime.now() - timedelta(days=2)).strftime('%Y-%m-01')\n",
    "        delete_DB_stock_by_Month_Stock_number(strMonth,stock_number,type_)\n",
    "    try:\n",
    "        if(want_update_Revenue):\n",
    "            MainStock(stock_number,start_month,want_update_Revenue)\n",
    "        else:\n",
    "            MainStock(stock_number,start_month)\n",
    "    except Exception as error:\n",
    "        print(\"An exception occurred:\", error)\n",
    "        print('Action Fail'+'\\n')\n",
    "        \n",
    "    print(stock_number,'=====================>Data Ready')\n",
    "   "
   ]
  }
 ],
 "metadata": {
  "kernelspec": {
   "display_name": "Python 3 (ipykernel)",
   "language": "python",
   "name": "python3"
  },
  "language_info": {
   "codemirror_mode": {
    "name": "ipython",
    "version": 3
   },
   "file_extension": ".py",
   "mimetype": "text/x-python",
   "name": "python",
   "nbconvert_exporter": "python",
   "pygments_lexer": "ipython3",
   "version": "3.10.9"
  }
 },
 "nbformat": 4,
 "nbformat_minor": 5
}
