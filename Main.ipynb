{
 "cells": [
  {
   "cell_type": "markdown",
   "id": "0b431e84",
   "metadata": {},
   "source": [
    "# 目的\n",
    "#每日收盤後開始爬股價\n",
    "\n",
    "#可以視情況條種是否抓營收，大概都隔月的10 後營收才會公布\n",
    "## 【資料源】\n",
    "來自 _BaseInfo  _CrawBase 會先去取基本相關資料 (股票號碼...等)\n",
    "\n",
    "## 【輸出】\n",
    "股票相關推薦圖表/數據"
   ]
  },
  {
   "cell_type": "code",
   "execution_count": 1,
   "id": "73dcfc64",
   "metadata": {},
   "outputs": [],
   "source": [
    "import pandas as pd\n",
    "import threading\n",
    "from datetime import datetime, timedelta"
   ]
  },
  {
   "cell_type": "code",
   "execution_count": 2,
   "id": "16344e8f",
   "metadata": {},
   "outputs": [
    {
     "name": "stderr",
     "output_type": "stream",
     "text": [
      "C:\\Users\\user\\anaconda3\\lib\\site-packages\\mpl_finance.py:16: DeprecationWarning: \n",
      "\n",
      "  =================================================================\n",
      "\n",
      "   WARNING: `mpl_finance` is deprecated:\n",
      "\n",
      "    Please use `mplfinance` instead (no hyphen, no underscore).\n",
      "\n",
      "    To install: `pip install --upgrade mplfinance` \n",
      "\n",
      "   For more information, see: https://pypi.org/project/mplfinance/\n",
      "\n",
      "  =================================================================\n",
      "\n",
      "  __warnings.warn('\\n\\n  ================================================================='+\n"
     ]
    }
   ],
   "source": [
    "#%run _BaseInfoETF.ipynb\n",
    "%run _CrawBase.ipynb\n",
    "#%run _LineMsg.ipynb\n",
    "%run _genHtml.ipynb\n",
    "#%run RunRealTimeStock.ipynb"
   ]
  },
  {
   "cell_type": "code",
   "execution_count": 3,
   "id": "f5153f94",
   "metadata": {},
   "outputs": [],
   "source": [
    "def delAllFile(folder):\n",
    "    fileList = os.listdir(folder)\n",
    "    for f in fileList:\n",
    "        filePath = folder + '/'+f\n",
    "\n",
    "        if os.path.isfile(filePath):\n",
    "            os.remove(filePath)\n",
    "\n",
    "        elif os.path.isdir(filePath):\n",
    "            newFileList = os.listdir(filePath)\n",
    "            for f1 in newFileList:\n",
    "                insideFilePath = filePath + '/' + f1\n",
    "\n",
    "                if os.path.isfile(insideFilePath):\n",
    "                    os.remove(insideFilePath)"
   ]
  },
  {
   "cell_type": "code",
   "execution_count": 4,
   "id": "9e61faef",
   "metadata": {},
   "outputs": [
    {
     "data": {
      "text/plain": [
       "'114/02/04'"
      ]
     },
     "execution_count": 4,
     "metadata": {},
     "output_type": "execute_result"
    }
   ],
   "source": [
    "\n",
    "start_month = '2023-01-01'\n",
    "start_date = datetime.strptime(start_month, \"%Y-%m-%d\").date()\n",
    "today = datetime.today().date()\n",
    "\n",
    "def to_roc(date_obj):\n",
    "    roc_year = date_obj.year - 1911\n",
    "    return f\"{roc_year}/{date_obj.month:02d}/{date_obj.day:02d}\"\n",
    "\n",
    "end_time_list = []\n",
    "current_date = start_date\n",
    "while current_date <= today:\n",
    "    end_time_list.append(to_roc(current_date))\n",
    "    current_date += timedelta(days=1)\n",
    "\n",
    "end_time_list=end_time_list[-20:]\n",
    "\n",
    "min(end_time_list) "
   ]
  },
  {
   "cell_type": "code",
   "execution_count": 5,
   "id": "8fd8eaec",
   "metadata": {},
   "outputs": [],
   "source": [
    "# 定义主要爬虫和处理函数\n",
    "def process_stock_codes(stock_number):\n",
    "    try:\n",
    "        craw_stock_need_update= True\n",
    "        RowData_df_craw_stock, His_Stock, isSuccess = craw_stock(stock_number, start_month,datetime.now().strftime(\"%Y-%m-%d\"),craw_stock_need_update)\n",
    "        _dummyData=data_process(RowData_df_craw_stock)\n",
    "\n",
    "        #存html \n",
    "        gen_html(stock_number, _dummyData)  \n",
    "        \n",
    "        save_process_data( stock_number, _dummyData)\n",
    "        \n",
    "\n",
    "\n",
    "    except Exception as error:\n",
    "        print(f'Error processing stock {stock_number}: {error}')\n",
    "\n",
    "# 分別處理不同的股票列表\n",
    "def process_stock_list(stock_list):\n",
    "    for stock_number in stock_list:\n",
    "        process_stock_codes(stock_number)"
   ]
  },
  {
   "cell_type": "code",
   "execution_count": 6,
   "id": "9131dbad",
   "metadata": {},
   "outputs": [
    {
     "name": "stdout",
     "output_type": "stream",
     "text": [
      "Stock_His 1101 2025-02-01 ===>外部抓取\n",
      "Stock_His 1240 2025-02-01 ===>外部抓取\n",
      "1101\n",
      "1240\n",
      "http://www.twse.com.tw/exchangeReport/STOCK_DAY?response=json&date=20250201&stockNo=1101\n",
      "https://www.tpex.org.tw/www/zh-tw/afterTrading/tradingStock?code=1240&date=2025/02/01&id=&response=json\n",
      "Stock_His 1259 2025-02-01 ===>外部抓取\n",
      "1259\n",
      "Stock_His 1102 2025-02-01 ===>外部抓取\n",
      "1102\n",
      "http://www.twse.com.tw/exchangeReport/STOCK_DAY?response=json&date=20250201&stockNo=1102\n",
      "https://www.tpex.org.tw/www/zh-tw/afterTrading/tradingStock?code=1259&date=2025/02/01&id=&response=json\n",
      "Stock_His 1264 2025-02-01 ===>外部抓取\n",
      "1264\n",
      "https://www.tpex.org.tw/www/zh-tw/afterTrading/tradingStock?code=1264&date=2025/02/01&id=&response=json\n",
      "Stock_His 1103 2025-02-01 ===>外部抓取\n",
      "1103\n",
      "http://www.twse.com.tw/exchangeReport/STOCK_DAY?response=json&date=20250201&stockNo=1103\n",
      "2025-02-04 00:00:00\n",
      "2025-02-04 00:00:00\n",
      "2025-02-05 00:00:00\n",
      "2025-02-04 00:00:00\n",
      "2025-02-06 00:00:00\n",
      "2025-02-04 00:00:00\n",
      "2025-02-07 00:00:00\n",
      "2025-02-04 00:00:00\n",
      "2025-02-10 00:00:00\n",
      "2025-02-04 00:00:00\n",
      "2025-02-11 00:00:00\n",
      "2025-02-04 00:00:00\n",
      "2025-02-12 00:00:00\n",
      "2025-02-04 00:00:00\n",
      "2025-02-13 00:00:00\n",
      "2025-02-04 00:00:00\n",
      "2025-02-04 00:00:00\n",
      "2025-02-04 00:00:00\n",
      "2025-02-05 00:00:00\n",
      "2025-02-04 00:00:00\n",
      "2025-02-06 00:00:00\n",
      "2025-02-04 00:00:00\n",
      "2025-02-07 00:00:00\n",
      "2025-02-04 00:00:00\n",
      "2025-02-10 00:00:00\n",
      "2025-02-04 00:00:00\n",
      "2025-02-11 00:00:00\n",
      "2025-02-04 00:00:00\n",
      "2025-02-12 00:00:00\n",
      "2025-02-04 00:00:00\n",
      "2025-02-13 00:00:00\n",
      "2025-02-04 00:00:00\n",
      "All stocks processed.\n",
      "start time2025/02/13 21:25:21\n",
      "end time2025/02/13 21:25:43\n"
     ]
    }
   ],
   "source": [
    "# 分割資料，取前 500 個和其餘的股票代號\n",
    "first_500_codes = _baseInfo[_baseInfo['Type'] == '上市'].dropna()['公司代號']\n",
    "remaining_codes = _baseInfo[_baseInfo['Type'] != '上市'].dropna()['公司代號']\n",
    "\n",
    "\n",
    "if True: \n",
    "    starttime=datetime.now()\n",
    "    # 創建兩個執行緒，分別處理前 500 個和其餘股票代號\n",
    "    thread1 = threading.Thread(target=process_stock_list, args=(first_500_codes,))\n",
    "    thread2 = threading.Thread(target=process_stock_list, args=(remaining_codes,))\n",
    "    # 啟動執行緒\n",
    "    thread1.start()\n",
    "    thread2.start()\n",
    "    # 等待兩個執行緒完成\n",
    "    thread1.join()\n",
    "    thread2.join()\n",
    "    \n",
    "    delAllFile('./Result/DailyRunRealTimeStock/')\n",
    "    delAllFile('./Result/DailyFiles/')\n",
    "    \n",
    "    save_data_by_date(df_save_old_RunRealTimeStock,\"Result/DailyRunRealTimeStock\")\n",
    "    save_data_by_date(df_save_df_to_excel,\"Result/DailyFiles\")\n",
    "\n",
    "    print(\"All stocks processed.\")\n",
    "    print(\"start time\" + starttime.strftime(\"%Y/%m/%d %H:%M:%S\"))\n",
    "    print(\"end time\" + datetime.now().strftime(\"%Y/%m/%d %H:%M:%S\"))\n"
   ]
  },
  {
   "cell_type": "code",
   "execution_count": null,
   "id": "dff4e257",
   "metadata": {},
   "outputs": [],
   "source": []
  }
 ],
 "metadata": {
  "kernelspec": {
   "display_name": "Python 3 (ipykernel)",
   "language": "python",
   "name": "python3"
  },
  "language_info": {
   "codemirror_mode": {
    "name": "ipython",
    "version": 3
   },
   "file_extension": ".py",
   "mimetype": "text/x-python",
   "name": "python",
   "nbconvert_exporter": "python",
   "pygments_lexer": "ipython3",
   "version": "3.10.9"
  }
 },
 "nbformat": 4,
 "nbformat_minor": 5
}
