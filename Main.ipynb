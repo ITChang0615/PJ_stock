{
 "cells": [
  {
   "cell_type": "markdown",
   "id": "0b431e84",
   "metadata": {},
   "source": [
    "# 目的\n",
    "#每日收盤後開始爬股價\n",
    "\n",
    "#可以視情況條種是否抓營收，大概都隔月的10 後營收才會公布\n",
    "## 【資料源】\n",
    "來自 _BaseInfo  _CrawBase 會先去取基本相關資料 (股票號碼...等)\n",
    "\n",
    "## 【輸出】\n",
    "股票相關推薦圖表/數據"
   ]
  },
  {
   "cell_type": "code",
   "execution_count": 1,
   "id": "73dcfc64",
   "metadata": {},
   "outputs": [],
   "source": [
    "import pandas as pd\n",
    "import threading\n",
    "from datetime import datetime, timedelta"
   ]
  },
  {
   "cell_type": "code",
   "execution_count": 2,
   "id": "16344e8f",
   "metadata": {},
   "outputs": [
    {
     "name": "stderr",
     "output_type": "stream",
     "text": [
      "C:\\Users\\user\\anaconda3\\lib\\site-packages\\mpl_finance.py:16: DeprecationWarning: \n",
      "\n",
      "  =================================================================\n",
      "\n",
      "   WARNING: `mpl_finance` is deprecated:\n",
      "\n",
      "    Please use `mplfinance` instead (no hyphen, no underscore).\n",
      "\n",
      "    To install: `pip install --upgrade mplfinance` \n",
      "\n",
      "   For more information, see: https://pypi.org/project/mplfinance/\n",
      "\n",
      "  =================================================================\n",
      "\n",
      "  __warnings.warn('\\n\\n  ================================================================='+\n"
     ]
    }
   ],
   "source": [
    "#%run _BaseInfoETF.ipynb\n",
    "%run _CrawBase.ipynb\n",
    "#%run _LineMsg.ipynb\n",
    "%run _genHtml.ipynb\n",
    "#%run RunRealTimeStock.ipynb"
   ]
  },
  {
   "cell_type": "code",
   "execution_count": 3,
   "id": "8fd8eaec",
   "metadata": {},
   "outputs": [],
   "source": [
    "def MainStock(stock_number, start_month,end_time=datetime.now().strftime(\"%Y-%m-%d\"),updateRevenue=False):  \n",
    "\n",
    "    strmsg ='【stock_number】'+str(stock_number)+'\\n' +'【start_month】'+str(start_month)+'\\n'+'【end_time】'+str(end_time)+'\\n' \n",
    "    try:\n",
    "        #處理 Stock\n",
    "        RowData_df_craw_stock,His_Stock ,isSuccess= craw_stock(stock_number,start_month,end_time)\n",
    "        #data_final,df_final=DataCleaning(RowData_df_craw_stock)  \n",
    "        \n",
    "        #處理 Revenue\n",
    "        if(updateRevenue):\n",
    "            RowData_df_craw_revenue,His_Stock=craw_revenue(stock_number)\n",
    "            df_Revenue=RevenueDataCleaning(RowData_df_craw_revenue)\n",
    "            \n",
    "        #處理相關指標轉成html \n",
    "        stock_data=data_process(RowData_df_craw_stock)\n",
    "        level,interval_type, lower_bound, upper_bound=get_interval(stock_data.iloc[-1]['收盤價'],np.array(stock_data['收盤價']))\n",
    "        stock_data['stock_number']=stock_number\n",
    "        stock_data['level']=level\n",
    "        stock_data['interval_type']=interval_type\n",
    "        stock_data['lower_bound']=lower_bound\n",
    "        stock_data['upper_bound']=upper_bound\n",
    "        \n",
    "        #print('sendLineMessage')\n",
    "        stock_data['年月日'] = stock_data['年月日'].astype(str).str.replace('*', '', regex=False)\n",
    "        stock_data['年月日'] = pd.to_datetime(stock_data['年月日'], format='%Y-%m-%d')\n",
    "  \n",
    "        save_to_df(stock_data.iloc[-1].to_frame().T)\n",
    "        \n",
    "        gen_html(stock_number,stock_data)\n",
    "        #sendLineMessage('成功'+'\\n'+strmsg )\n",
    "    except Exception as error:\n",
    "        #sendLineMessage('失败'+'\\n'+strmsg)\n",
    "        print('MainStock Fail'+'\\n'+strmsg)\n",
    "        print(f\"An exception occurred with MainStock {stock_number}: {error}\")"
   ]
  },
  {
   "cell_type": "code",
   "execution_count": 4,
   "id": "9131dbad",
   "metadata": {},
   "outputs": [],
   "source": [
    "start_month='2023-01-01'  #起始月份\n",
    "want_update_Stock=True\n",
    "want_update_Revenue=False\n",
    "\n",
    "# 定義一個處理股票資料的函數，接收股票代號列表作為參數\n",
    "def process_stock_codes(stock_codes):\n",
    "    # 計算月份字串（僅需計算一次）\n",
    "    strMonth = (datetime.now() - timedelta(days=2)).strftime('%Y-%m-01')\n",
    "    for code in stock_codes:\n",
    "        stock_number = str(code)\n",
    "        try:\n",
    "            MainStock(stock_number, start_month,datetime.now().strftime(\"%Y-%m-%d\"), want_update_Revenue)\n",
    "        except Exception as error:\n",
    "            print(f\"An exception occurred with stock {stock_number}: {error}\")\n",
    "            \n",
    "def daily_craw_stock():\n",
    "    \n",
    "    # 分割資料，取前 500 個和其餘的股票代號\n",
    "    first_500_codes = _baseInfo[_baseInfo['Type']=='上市'].dropna()['公司代號']\n",
    "    remaining_codes =_baseInfo[_baseInfo['Type']!='上市'].dropna()['公司代號']\n",
    "\n",
    "    # 創建兩個執行緒，分別處理前 500 個和其餘股票代號\n",
    "    thread1 = threading.Thread(target=process_stock_codes, args=(first_500_codes,))\n",
    "    thread2 = threading.Thread(target=process_stock_codes, args=(remaining_codes,))\n",
    "\n",
    "    # 啟動執行緒\n",
    "    thread1.start()\n",
    "    thread2.start()\n",
    "\n",
    "    # 等待兩個執行緒完成\n",
    "    thread1.join()\n",
    "    thread2.join()\n",
    "    \n",
    "    #save_data_by_date(df_save_old_RunRealTimeStock,\"Result/DailyRunRealTimeStock\")\n",
    "    save_data_by_date(df_save_df_to_excel,\"Result/DailyFiles\")\n",
    "\n",
    "    print(\"Stock processing completed.\")\n",
    "    "
   ]
  },
  {
   "cell_type": "code",
   "execution_count": null,
   "id": "75801ef6",
   "metadata": {},
   "outputs": [],
   "source": [
    "daily_craw_stock()"
   ]
  },
  {
   "cell_type": "markdown",
   "id": "4adabe13",
   "metadata": {},
   "source": [
    "# 補資料 \n",
    "\n",
    "today =datetime.now().strftime(\"%Y-%m-%d\")\n",
    "df_info=_baseInfo.copy()\n",
    "fullpath = f'D:\\\\Project\\\\Jupyter\\\\Stock\\\\Main\\\\Result\\\\DailyRunRealTimeStock\\\\{today}.xlsx'\n",
    "my=pd.read_excel(fullpath)\n",
    "\n",
    "df_info['公司代號']=df_info['公司代號'].astype(str)\n",
    "my['stock_number']=my['stock_number'].astype(str)\n",
    "# 找出只在 df_info 中存在，但不在 my 中的 stock_number\n",
    "aa=df_info[~df_info['公司代號'].isin(my['stock_number'])]\n",
    "#stock_codes=list(set(aa.dropna()['公司代號']))\n",
    "\n",
    "\n",
    "\n",
    "\n",
    "# 分割資料，取前 500 個和其餘的股票代號\n",
    "first_500_codes = aa[aa['Type']=='上市'].dropna()['公司代號']\n",
    "remaining_codes =aa[aa['Type']!='上市'].dropna()['公司代號']\n",
    "\n",
    "# 創建兩個執行緒，分別處理前 500 個和其餘股票代號\n",
    "thread1 = threading.Thread(target=process_stock_codes, args=(first_500_codes,))\n",
    "thread2 = threading.Thread(target=process_stock_codes, args=(remaining_codes,))\n",
    "\n",
    "# 啟動執行緒\n",
    "thread1.start()\n",
    "thread2.start()\n",
    "\n",
    "# 等待兩個執行緒完成\n",
    "thread1.join()\n",
    "thread2.join()\n",
    "\n",
    "save_data_by_date(df_save_old_RunRealTimeStock,\"Result/DailyRunRealTimeStock\")\n",
    "save_data_by_date(df_save_df_to_excel,\"Result/DailyFiles\")\n",
    "\n",
    "print(\"Stock processing completed.\")"
   ]
  }
 ],
 "metadata": {
  "kernelspec": {
   "display_name": "Python 3 (ipykernel)",
   "language": "python",
   "name": "python3"
  },
  "language_info": {
   "codemirror_mode": {
    "name": "ipython",
    "version": 3
   },
   "file_extension": ".py",
   "mimetype": "text/x-python",
   "name": "python",
   "nbconvert_exporter": "python",
   "pygments_lexer": "ipython3",
   "version": "3.10.9"
  }
 },
 "nbformat": 4,
 "nbformat_minor": 5
}
