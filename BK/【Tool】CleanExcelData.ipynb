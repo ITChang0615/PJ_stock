{
 "cells": [
  {
   "cell_type": "code",
   "execution_count": 3,
   "id": "991a4c8b",
   "metadata": {},
   "outputs": [],
   "source": [
    "from os import listdir\n",
    "from os.path import isfile, isdir, join\n",
    "from os import walk\n",
    "import os\n",
    "from os.path import join, getmtime\n",
    "import pandas as pd\n",
    "import numpy as np"
   ]
  },
  {
   "cell_type": "code",
   "execution_count": 4,
   "id": "4d436e57",
   "metadata": {},
   "outputs": [],
   "source": [
    "mypath = \"D:\\Project\\Jupyter\\Stock\\Main\\Result\\DailyRunRealTimeStock\"\n",
    "files = listdir(mypath)"
   ]
  },
  {
   "cell_type": "code",
   "execution_count": 5,
   "id": "6e88b876",
   "metadata": {},
   "outputs": [
    {
     "name": "stdout",
     "output_type": "stream",
     "text": [
      "D:\\Project\\Jupyter\\Stock\\Main\\Result\\DailyRunRealTimeStock\\2024-10-30.xlsx\n",
      "D:\\Project\\Jupyter\\Stock\\Main\\Result\\DailyRunRealTimeStock\\2024-11-04.xlsx\n",
      "D:\\Project\\Jupyter\\Stock\\Main\\Result\\DailyRunRealTimeStock\\2024-11-05.xlsx\n",
      "D:\\Project\\Jupyter\\Stock\\Main\\Result\\DailyRunRealTimeStock\\2024-11-06.xlsx\n",
      "D:\\Project\\Jupyter\\Stock\\Main\\Result\\DailyRunRealTimeStock\\2024-11-07.xlsx\n",
      "D:\\Project\\Jupyter\\Stock\\Main\\Result\\DailyRunRealTimeStock\\2024-11-08.xlsx\n",
      "D:\\Project\\Jupyter\\Stock\\Main\\Result\\DailyRunRealTimeStock\\2024-11-11.xlsx\n",
      "D:\\Project\\Jupyter\\Stock\\Main\\Result\\DailyRunRealTimeStock\\2024-11-12.xlsx\n",
      "D:\\Project\\Jupyter\\Stock\\Main\\Result\\DailyRunRealTimeStock\\2024-11-13.xlsx\n",
      "D:\\Project\\Jupyter\\Stock\\Main\\Result\\DailyRunRealTimeStock\\2024-11-14.xlsx\n",
      "D:\\Project\\Jupyter\\Stock\\Main\\Result\\DailyRunRealTimeStock\\2024-11-15.xlsx\n"
     ]
    }
   ],
   "source": [
    "for root, dirs, files in walk(mypath):\n",
    "    for f in files:\n",
    "        fullpath = join(root, f)\n",
    "        pd.read_excel(fullpath).drop_duplicates().to_excel(fullpath, index=False)\n",
    "        print(fullpath)"
   ]
  }
 ],
 "metadata": {
  "kernelspec": {
   "display_name": "Python 3 (ipykernel)",
   "language": "python",
   "name": "python3"
  },
  "language_info": {
   "codemirror_mode": {
    "name": "ipython",
    "version": 3
   },
   "file_extension": ".py",
   "mimetype": "text/x-python",
   "name": "python",
   "nbconvert_exporter": "python",
   "pygments_lexer": "ipython3",
   "version": "3.10.9"
  }
 },
 "nbformat": 4,
 "nbformat_minor": 5
}
