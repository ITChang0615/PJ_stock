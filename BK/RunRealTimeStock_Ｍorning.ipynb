{
 "cells": [
  {
   "cell_type": "markdown",
   "id": "d00c0701",
   "metadata": {},
   "source": [
    "# 目的說明\n",
    "\n"
   ]
  },
  {
   "cell_type": "markdown",
   "id": "b5aa31bf",
   "metadata": {},
   "source": [
    "#去yahoo抓取當下股票情況 價錢/漲跌"
   ]
  },
  {
   "cell_type": "markdown",
   "id": "8a0dbe32",
   "metadata": {},
   "source": [
    "【2024-07-27】\n",
    "\n",
    "#可以Run Real time or daily \n",
    "\n",
    "#Real Time : 可將昨日推薦股的情況，搭配當日股價去做line推撥   (等比較穩定點，之後再做)\n",
    "\n",
    "#Daily : 可在每日收盤後執行，來複盤 "
   ]
  },
  {
   "cell_type": "code",
   "execution_count": 1,
   "id": "55d6fb1d",
   "metadata": {},
   "outputs": [],
   "source": [
    "import pandas as pd\n",
    "import re\n",
    "import time\n",
    "from datetime import datetime\n",
    "import random\n",
    "import requests\n",
    "from bs4 import BeautifulSoup\n",
    "%run _BaseInfo.ipynb\n",
    "%run _LineMsg.ipynb\n",
    "%run _CrawBase.ipynb\n",
    "#【產出】資料結果放這裡\n",
    "file_name = 'DailyResultWeb.xlsx'\n",
    "# 備份\n",
    "current_date = datetime.now().strftime(\"%Y-%m-%d\") #動態時間For資料夾\n",
    "\n",
    "log_directory='log/RunRealTimeStock'\n",
    "_bk_file_name = f\"{log_directory}/{current_date}{file_name}\" \n"
   ]
  },
  {
   "cell_type": "code",
   "execution_count": 2,
   "id": "3133b448",
   "metadata": {},
   "outputs": [],
   "source": [
    "\n",
    "def yahoo_twstock_crawler(stock):\n",
    "    headers={'User-Agent': 'Mozilla/5.0 (Windows NT 10.0; Win64; x64) \\\n",
    "                           AppleWebKit/537.36 (KHTML, like Gecko) \\\n",
    "                           Chrome/102.0.0.0 Safari/537.36'}\n",
    "    url=f'https://tw.stock.yahoo.com/quote/{stock}' \n",
    "    print(url)\n",
    "    r=requests.get(url, headers=headers)\n",
    "    soup=BeautifulSoup(r.text, 'lxml')\n",
    "    # 存储匹配的标签\n",
    "    tag = []\n",
    "\n",
    "    # 选择器1\n",
    "    tag0=soup.select('span[class*=\"Fz(32px) Fw(b) Lh(1) Mend(16px) D(f) Ai(c)\"]')\n",
    "    if tag0:\n",
    "        tag.append(tag0[0])  # 只添加非空标签的第一个元素\n",
    "\n",
    "    # 选择器2\n",
    "    tag1=soup.select('span[class*=\"Fz(32px) Fw(b) Lh(1) Mend(16px) C(#fff) Px(6px) Py(2px) Bdrs(4px) \"]')\n",
    "    \n",
    "    if tag1:\n",
    "        tag.append(tag1[0])  # 只添加非空标签的第一个元素\n",
    "    # Fz(32px) Fw(b) Lh(1) Mend(16px) C(#fff) Px(6px) Py(2px) Bdrs(4px) Bgc($c-trend-down)\n",
    "    # 选择器3\n",
    "    tag2=soup.select('span[class*=\"Fz(32px) Fw(b) Lh(1) Mend(16px) C(#fff) Px(6px) Py(2px) Bdrs(4px) Bgc($c-trend-up)\"]')\n",
    "    if tag2:\n",
    "        tag.append(tag2[0])  # 只添加非空标签的第一个元素\n",
    "\n",
    "    # 打印结果\n",
    "    #print(\"tag0:\", tag0)\n",
    "    #print(\"tag1:\", tag1)\n",
    "    #print(\"tag2:\", tag2)\n",
    "    #print(\"tag:\", tag)\n",
    "    if tag:\n",
    "        price=float(tag[0].text.replace(',',''))\n",
    "        \n",
    "        # 擷取漲跌價\n",
    "        tag=soup.select('span[class*=\"Fz(20px) Fw(b) Lh(1.2) Mend(4px) D(f) Ai(c)\"]')\n",
    "        if 'C($c-trend-up)' in tag[0].attrs['class']:   \n",
    "            change_price='+' + tag[0].text    \n",
    "        elif 'C($c-trend-down)' in tag[0].attrs['class']:   \n",
    "            change_price='-' + tag[0].text   \n",
    "        else:    \n",
    "            change_price=tag[0].text\n",
    "        # 擷取漲跌幅\n",
    "        tag=soup.select('span[class*=\"Jc(fe) Fz(20px) Lh(1.2) Fw(b) D(f) Ai(c)\"]')\n",
    "        change_quote=tag[0].text[1:-1]\n",
    "        if 'C($c-trend-up)' in tag[0].attrs['class']:   \n",
    "            change_quote=f'(+{change_quote})'   \n",
    "        elif 'C($c-trend-down)' in tag[0].attrs['class']:   \n",
    "            change_quote=f'(-{change_quote})'   \n",
    "        else:   \n",
    "            change_quote=f'({change_quote})'\n",
    "\n",
    "        return price, change_price, change_quote\n",
    "    return '-', '-', '-'"
   ]
  },
  {
   "cell_type": "code",
   "execution_count": 9,
   "id": "d14c046d",
   "metadata": {},
   "outputs": [
    {
     "name": "stdout",
     "output_type": "stream",
     "text": [
      "6117\n",
      "https://tw.stock.yahoo.com/quote/6117\n",
      "4966\n",
      "https://tw.stock.yahoo.com/quote/4966\n",
      "4953\n",
      "https://tw.stock.yahoo.com/quote/4953\n",
      "4564\n",
      "https://tw.stock.yahoo.com/quote/4564\n",
      "2402\n",
      "https://tw.stock.yahoo.com/quote/2402\n",
      "2376\n",
      "https://tw.stock.yahoo.com/quote/2376\n",
      "2367\n",
      "https://tw.stock.yahoo.com/quote/2367\n",
      "2349\n",
      "https://tw.stock.yahoo.com/quote/2349\n",
      "2301\n",
      "https://tw.stock.yahoo.com/quote/2301\n",
      "1599\n",
      "https://tw.stock.yahoo.com/quote/1599\n",
      "1101\n",
      "https://tw.stock.yahoo.com/quote/1101\n",
      "注意! 盤中漲跌幅超過 2% :\n",
      "4564 元翎 22.3 : (+2.06%)\n",
      "2376 技嘉 282.5 : (-2.92%)\n",
      "2349 錸德 15.35 : (+2.68%)\n",
      "2301 光寶科 101.5 : (-3.33%)\n",
      "1101 台泥 33.15 : (+2.47%)\n"
     ]
    }
   ],
   "source": [
    "stocks=pd.read_excel('check.xlsx' ).dropna()['stock_number'].drop_duplicates()\n",
    "alert_msg_list=['注意! 盤中漲跌幅超過 2% :']\n",
    "df= stocks.rename('stock_number').to_frame(\"stock_number\")\n",
    "\n",
    "for stock in stocks:\n",
    "    try:\n",
    "        print(stock)\n",
    "        price, change_price, change_quote=yahoo_twstock_crawler(stock)\n",
    "        name=GetStockInfoByID(str(stock)).split('-')[0]\n",
    "        alert_msg=f'{stock} {name} {price} : {change_quote}'\n",
    "        #print(alert_msg)\n",
    "        df.loc[df['stock_number'] == stock, 'name']=name\n",
    "        df.loc[df['stock_number'] == stock, 'now_price'] = price\n",
    "        df.loc[df['stock_number'] == stock, 'change_price'] = change_price\n",
    "        df.loc[df['stock_number'] == stock, 'change_quote'] = change_quote.replace('(','').replace(')','')\n",
    "        df.loc[df['stock_number'] == stock, 'change_quote_']=float(re.search(r'-?\\d+\\.\\d+', change_quote).group())\n",
    "        change_quote2=float(re.search(r'\\d+\\.\\d+', change_quote).group())\n",
    "        \n",
    "        if change_quote2 > 2 or change_quote2 < -2:\n",
    "            alert_msg_list.append(alert_msg)\n",
    "        time.sleep(1)\n",
    "    except:\n",
    "        print('error'+stock)\n",
    "print('\\n'.join(str(x) for x in alert_msg_list))\n",
    "#sendLineMessage('\\n'.join(str(x) for x in alert_msg_list))"
   ]
  },
  {
   "cell_type": "code",
   "execution_count": 10,
   "id": "759704fe",
   "metadata": {},
   "outputs": [
    {
     "data": {
      "text/html": [
       "<div>\n",
       "<style scoped>\n",
       "    .dataframe tbody tr th:only-of-type {\n",
       "        vertical-align: middle;\n",
       "    }\n",
       "\n",
       "    .dataframe tbody tr th {\n",
       "        vertical-align: top;\n",
       "    }\n",
       "\n",
       "    .dataframe thead th {\n",
       "        text-align: right;\n",
       "    }\n",
       "</style>\n",
       "<table border=\"1\" class=\"dataframe\">\n",
       "  <thead>\n",
       "    <tr style=\"text-align: right;\">\n",
       "      <th></th>\n",
       "      <th>stock_number</th>\n",
       "      <th>name</th>\n",
       "      <th>now_price</th>\n",
       "      <th>change_price</th>\n",
       "      <th>change_quote</th>\n",
       "      <th>change_quote_</th>\n",
       "    </tr>\n",
       "  </thead>\n",
       "  <tbody>\n",
       "    <tr>\n",
       "      <th>30</th>\n",
       "      <td>4564</td>\n",
       "      <td>元翎</td>\n",
       "      <td>22.30</td>\n",
       "      <td>+0.45</td>\n",
       "      <td>+2.06%</td>\n",
       "      <td>2.06</td>\n",
       "    </tr>\n",
       "    <tr>\n",
       "      <th>70</th>\n",
       "      <td>2349</td>\n",
       "      <td>錸德</td>\n",
       "      <td>15.35</td>\n",
       "      <td>+0.40</td>\n",
       "      <td>+2.68%</td>\n",
       "      <td>2.68</td>\n",
       "    </tr>\n",
       "    <tr>\n",
       "      <th>100</th>\n",
       "      <td>1101</td>\n",
       "      <td>台泥</td>\n",
       "      <td>33.15</td>\n",
       "      <td>+0.80</td>\n",
       "      <td>+2.47%</td>\n",
       "      <td>2.47</td>\n",
       "    </tr>\n",
       "  </tbody>\n",
       "</table>\n",
       "</div>"
      ],
      "text/plain": [
       "     stock_number name  now_price change_price change_quote  change_quote_\n",
       "30           4564   元翎      22.30        +0.45       +2.06%           2.06\n",
       "70           2349   錸德      15.35        +0.40       +2.68%           2.68\n",
       "100          1101   台泥      33.15        +0.80       +2.47%           2.47"
      ]
     },
     "execution_count": 10,
     "metadata": {},
     "output_type": "execute_result"
    }
   ],
   "source": [
    "df[df['change_quote_']>2]"
   ]
  },
  {
   "cell_type": "code",
   "execution_count": 5,
   "id": "f7c9c0d8",
   "metadata": {},
   "outputs": [
    {
     "data": {
      "text/plain": [
       "['注意! 盤中漲跌幅超過 2% :',\n",
       " '4564 元翎 22.3 : (+2.06%)',\n",
       " '2376 技嘉 282.5 : (-2.92%)',\n",
       " '2349 錸德 15.35 : (+2.68%)',\n",
       " '2301 光寶科 101.5 : (-3.33%)',\n",
       " '1101 台泥 33.15 : (+2.47%)']"
      ]
     },
     "execution_count": 5,
     "metadata": {},
     "output_type": "execute_result"
    }
   ],
   "source": [
    "alert_msg_list"
   ]
  },
  {
   "cell_type": "code",
   "execution_count": null,
   "id": "0b3fbe53",
   "metadata": {},
   "outputs": [],
   "source": []
  }
 ],
 "metadata": {
  "kernelspec": {
   "display_name": "Python 3 (ipykernel)",
   "language": "python",
   "name": "python3"
  },
  "language_info": {
   "codemirror_mode": {
    "name": "ipython",
    "version": 3
   },
   "file_extension": ".py",
   "mimetype": "text/x-python",
   "name": "python",
   "nbconvert_exporter": "python",
   "pygments_lexer": "ipython3",
   "version": "3.10.9"
  }
 },
 "nbformat": 4,
 "nbformat_minor": 5
}
