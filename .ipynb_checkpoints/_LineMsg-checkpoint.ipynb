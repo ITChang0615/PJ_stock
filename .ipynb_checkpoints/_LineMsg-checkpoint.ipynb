{
 "cells": [
  {
   "cell_type": "code",
   "execution_count": 23,
   "id": "e44963b6",
   "metadata": {
    "scrolled": true
   },
   "outputs": [],
   "source": [
    "#!pip install line-bot-sdk"
   ]
  },
  {
   "cell_type": "code",
   "execution_count": 1,
   "id": "e7a04d3e",
   "metadata": {},
   "outputs": [],
   "source": [
    "LINE_CHANNEL_ACCESS_TOKEN ='2/dhY9KZ26CCFtkQn7GYlbkHXExlfF4VTandkH7w1C4cTicq67dKbfkmc7BD6RUv5oaUw3bLDV2pkTGjQf35wXTNSpHdDG6n3WL5qhkr8ZY3kJJNqqYiwQf3yV5qn8exV398q3I6vL1K9gKbvBQRxQdB04t89/1O/w1cDnyilFU='\n",
    "LINE_CHANNEL_SECRET = 'e9a682fa8143239086413e870e5865b3'#'Basic settings的Channel Secret'\n",
    "USER_ID='Udb111becb66f5038ed5e8fef3a558ece'\n",
    "YOUR_MESSAGE=' XDDD'"
   ]
  },
  {
   "cell_type": "code",
   "execution_count": 2,
   "id": "0e55e211",
   "metadata": {},
   "outputs": [
    {
     "name": "stderr",
     "output_type": "stream",
     "text": [
      "C:\\Users\\user\\AppData\\Local\\Temp\\ipykernel_16980\\1366743303.py:6: LineBotSdkDeprecatedIn30: Call to deprecated class LineBotApi. (Use v3 class; linebot.v3.<feature>. See https://github.com/line/line-bot-sdk-python/blob/master/README.rst for more details.) -- Deprecated since version 3.0.0.\n",
      "  line_bot_api = LineBotApi(LINE_CHANNEL_ACCESS_TOKEN)\n"
     ]
    }
   ],
   "source": [
    "from linebot import LineBotApi\n",
    "from linebot.exceptions import LineBotApiError\n",
    "from linebot.models import TextSendMessage\n",
    "\n",
    "# 替换为您的 Channel Access Token\n",
    "line_bot_api = LineBotApi(LINE_CHANNEL_ACCESS_TOKEN)\n",
    "\n",
    "# 替换为接收者的用户 ID\n",
    "user_id = USER_ID\n"
   ]
  },
  {
   "cell_type": "code",
   "execution_count": 3,
   "id": "054a9407",
   "metadata": {},
   "outputs": [],
   "source": [
    "def sendLineMessage(msg): \n",
    "    # 替换为您要发送的消息内容\n",
    "    message_text = msg\n",
    "\n",
    "    try:\n",
    "        message = TextSendMessage(text=message_text)\n",
    "        line_bot_api.push_message(user_id, message)\n",
    "        print('消息发送成功！')\n",
    "    except LineBotApiError as e:\n",
    "        print('消息发送失败:', e)"
   ]
  },
  {
   "cell_type": "markdown",
   "id": "efcc7f79",
   "metadata": {},
   "source": [
    "# Test"
   ]
  },
  {
   "cell_type": "code",
   "execution_count": 4,
   "id": "0ab38b5a",
   "metadata": {},
   "outputs": [
    {
     "name": "stderr",
     "output_type": "stream",
     "text": [
      "C:\\Users\\user\\AppData\\Local\\Temp\\ipykernel_16980\\1450337148.py:7: LineBotSdkDeprecatedIn30: Call to deprecated method push_message. (Use 'from linebot.v3.messaging import MessagingApi' and 'MessagingApi(...).push_message(...)' instead. See https://github.com/line/line-bot-sdk-python/blob/master/README.rst for more details.) -- Deprecated since version 3.0.0.\n",
      "  line_bot_api.push_message(user_id, message)\n"
     ]
    },
    {
     "name": "stdout",
     "output_type": "stream",
     "text": [
      "消息发送成功！\n"
     ]
    }
   ],
   "source": [
    "#sendLineMessage('aaa')"
   ]
  },
  {
   "cell_type": "code",
   "execution_count": null,
   "id": "4e1e64a9",
   "metadata": {},
   "outputs": [],
   "source": []
  }
 ],
 "metadata": {
  "kernelspec": {
   "display_name": "Python 3 (ipykernel)",
   "language": "python",
   "name": "python3"
  },
  "language_info": {
   "codemirror_mode": {
    "name": "ipython",
    "version": 3
   },
   "file_extension": ".py",
   "mimetype": "text/x-python",
   "name": "python",
   "nbconvert_exporter": "python",
   "pygments_lexer": "ipython3",
   "version": "3.10.9"
  }
 },
 "nbformat": 4,
 "nbformat_minor": 5
}
