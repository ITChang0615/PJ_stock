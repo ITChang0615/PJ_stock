{
 "cells": [
  {
   "cell_type": "code",
   "execution_count": 1,
   "id": "613a0b9e",
   "metadata": {},
   "outputs": [],
   "source": [
    "%run _BaseInfo.ipynb"
   ]
  },
  {
   "cell_type": "code",
   "execution_count": 2,
   "id": "d7b39b5a",
   "metadata": {},
   "outputs": [],
   "source": [
    "import time"
   ]
  },
  {
   "cell_type": "code",
   "execution_count": 3,
   "id": "e642c2e4",
   "metadata": {},
   "outputs": [],
   "source": [
    "from openpyxl import load_workbook\n",
    "def save_excel(file_name,df):\n",
    "    sheet_name='Sheet1'\n",
    "\n",
    "    try:\n",
    "        # 嘗試加載現有的 Excel 文件\n",
    "        book = load_workbook(file_name)\n",
    "\n",
    "        with pd.ExcelWriter(file_name, engine='openpyxl', mode='a', if_sheet_exists='overlay') as writer:\n",
    "            # 加載現有數據\n",
    "            writer.book = book\n",
    "            if sheet_name in book.sheetnames:\n",
    "                existing_df = pd.read_excel(file_name, sheet_name=sheet_name)\n",
    "                df = pd.concat([existing_df, df], ignore_index=True)\n",
    "\n",
    "            # 將 DataFrame 寫入指定的 Sheet\n",
    "            df.to_excel(writer, sheet_name=sheet_name, index=False)\n",
    "\n",
    "            writer.save()\n",
    "\n",
    "    except FileNotFoundError:\n",
    "        # 如果文件不存在，創建新文件並寫入 DataFrame\n",
    "        with pd.ExcelWriter(file_name, engine='openpyxl') as writer:\n",
    "            df.to_excel(writer, sheet_name=sheet_name, index=False)"
   ]
  },
  {
   "cell_type": "code",
   "execution_count": 4,
   "id": "853fb81b",
   "metadata": {},
   "outputs": [],
   "source": [
    "code='1101'\n",
    "for code in _baseInfo.dropna()['公司代號'].iloc[::-1]:\n",
    "    try:\n",
    "        time.sleep(3)\n",
    "        url='https://pscnetinvest.moneydj.com/z/zc/zca/zca.djhtm?a='+code\n",
    "        response = requests.get(url,verify = False)\n",
    "        response.encoding = 'big5'\n",
    "        df = pd.DataFrame()\n",
    "        df = pd.concat([df, pd.DataFrame([[str(code)]], columns=['stock_number'])], ignore_index=True)\n",
    "\n",
    "\n",
    "        if response.status_code == 200:\n",
    "            soup = BeautifulSoup(response.text, \"html.parser\")\n",
    "            table=soup.find('table').find('table').find('table')\n",
    "\n",
    "            for x in range(len(table.find_all('tr'))):\n",
    "                #if x>=1 and x<5:\n",
    "                if x!=0 and x!=5 and (x<12 or x==20) :\n",
    "                    detail=[th.text.replace('', '') for th in table.find_all('tr')[x].find_all('td')]\n",
    "                    for y in range(len(detail)-1):\n",
    "\n",
    "                        if (y % 2) == 0:\n",
    "                            df[detail[y]]=str(detail[y+1])\n",
    "            #df.columns       \n",
    "            save_df=df[['stock_number', '收盤價' ,'每股淨值(元)','股價淨值比','本益比', '一年內最高價', '一年內最低價', '一年內最大量', '一年內最低量','營收比重']]\n",
    "            file_name='Result/StockInfo.xlsx'\n",
    "            save_excel(file_name,save_df)\n",
    "    except:\n",
    "            print('error'+code)"
   ]
  }
 ],
 "metadata": {
  "kernelspec": {
   "display_name": "Python 3 (ipykernel)",
   "language": "python",
   "name": "python3"
  },
  "language_info": {
   "codemirror_mode": {
    "name": "ipython",
    "version": 3
   },
   "file_extension": ".py",
   "mimetype": "text/x-python",
   "name": "python",
   "nbconvert_exporter": "python",
   "pygments_lexer": "ipython3",
   "version": "3.10.9"
  }
 },
 "nbformat": 4,
 "nbformat_minor": 5
}
