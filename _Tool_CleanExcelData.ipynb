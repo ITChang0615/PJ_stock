{
 "cells": [
  {
   "cell_type": "code",
   "execution_count": 1,
   "id": "991a4c8b",
   "metadata": {},
   "outputs": [],
   "source": [
    "from os import listdir\n",
    "from os.path import isfile, isdir, join\n",
    "from os import walk\n",
    "import os\n",
    "from os.path import join, getmtime\n",
    "import pandas as pd\n",
    "import numpy as np"
   ]
  },
  {
   "cell_type": "code",
   "execution_count": 6,
   "id": "4d436e57",
   "metadata": {},
   "outputs": [],
   "source": [
    "mypath = \"D:\\Project\\Jupyter\\Stock\\Main\\log\\RunRealTimeStock\"\n",
    "files = listdir(mypath)"
   ]
  },
  {
   "cell_type": "code",
   "execution_count": 7,
   "id": "6e88b876",
   "metadata": {},
   "outputs": [
    {
     "name": "stdout",
     "output_type": "stream",
     "text": [
      "D:\\Project\\Jupyter\\Stock\\Main\\log\\RunRealTimeStock\\2024-04-03DailyResultWeb.xlsx\n",
      "D:\\Project\\Jupyter\\Stock\\Main\\log\\RunRealTimeStock\\2024-08-12DailyResultWeb.xlsx\n",
      "D:\\Project\\Jupyter\\Stock\\Main\\log\\RunRealTimeStock\\2024-08-13DailyResultWeb.xlsx\n",
      "D:\\Project\\Jupyter\\Stock\\Main\\log\\RunRealTimeStock\\2024-08-14DailyResultWeb.xlsx\n",
      "D:\\Project\\Jupyter\\Stock\\Main\\log\\RunRealTimeStock\\2024-08-15DailyResultWeb.xlsx\n",
      "D:\\Project\\Jupyter\\Stock\\Main\\log\\RunRealTimeStock\\2024-08-16DailyResultWeb.xlsx\n",
      "D:\\Project\\Jupyter\\Stock\\Main\\log\\RunRealTimeStock\\2024-08-19DailyResultWeb.xlsx\n",
      "D:\\Project\\Jupyter\\Stock\\Main\\log\\RunRealTimeStock\\2024-08-20DailyResultWeb.xlsx\n",
      "D:\\Project\\Jupyter\\Stock\\Main\\log\\RunRealTimeStock\\2024-08-21DailyResultWeb.xlsx\n",
      "D:\\Project\\Jupyter\\Stock\\Main\\log\\RunRealTimeStock\\2024-08-22DailyResultWeb.xlsx\n",
      "D:\\Project\\Jupyter\\Stock\\Main\\log\\RunRealTimeStock\\2024-08-23DailyResultWeb.xlsx\n",
      "D:\\Project\\Jupyter\\Stock\\Main\\log\\RunRealTimeStock\\2024-08-26DailyResultWeb.xlsx\n",
      "D:\\Project\\Jupyter\\Stock\\Main\\log\\RunRealTimeStock\\2024-08-27DailyResultWeb.xlsx\n",
      "D:\\Project\\Jupyter\\Stock\\Main\\log\\RunRealTimeStock\\2024-08-28DailyResultWeb.xlsx\n",
      "D:\\Project\\Jupyter\\Stock\\Main\\log\\RunRealTimeStock\\2024-08-29DailyResultWeb.xlsx\n",
      "D:\\Project\\Jupyter\\Stock\\Main\\log\\RunRealTimeStock\\2024-08-30DailyResultWeb.xlsx\n",
      "D:\\Project\\Jupyter\\Stock\\Main\\log\\RunRealTimeStock\\2024-08-31DailyResultWeb.xlsx\n",
      "D:\\Project\\Jupyter\\Stock\\Main\\log\\RunRealTimeStock\\2024-09-02DailyResultWeb.xlsx\n",
      "D:\\Project\\Jupyter\\Stock\\Main\\log\\RunRealTimeStock\\2024-09-03DailyResultWeb.xlsx\n",
      "D:\\Project\\Jupyter\\Stock\\Main\\log\\RunRealTimeStock\\2024-09-04DailyResultWeb.xlsx\n",
      "D:\\Project\\Jupyter\\Stock\\Main\\log\\RunRealTimeStock\\2024-09-05DailyResultWeb.xlsx\n",
      "D:\\Project\\Jupyter\\Stock\\Main\\log\\RunRealTimeStock\\2024-09-06DailyResultWeb.xlsx\n",
      "D:\\Project\\Jupyter\\Stock\\Main\\log\\RunRealTimeStock\\2024-09-09DailyResultWeb.xlsx\n",
      "D:\\Project\\Jupyter\\Stock\\Main\\log\\RunRealTimeStock\\2024-09-10DailyResultWeb.xlsx\n",
      "D:\\Project\\Jupyter\\Stock\\Main\\log\\RunRealTimeStock\\2024-09-11DailyResultWeb.xlsx\n",
      "D:\\Project\\Jupyter\\Stock\\Main\\log\\RunRealTimeStock\\2024-09-12DailyResultWeb.xlsx\n",
      "D:\\Project\\Jupyter\\Stock\\Main\\log\\RunRealTimeStock\\2024-09-13DailyResultWeb.xlsx\n",
      "D:\\Project\\Jupyter\\Stock\\Main\\log\\RunRealTimeStock\\2024-09-16DailyResultWeb.xlsx\n",
      "D:\\Project\\Jupyter\\Stock\\Main\\log\\RunRealTimeStock\\2024-09-18DailyResultWeb.xlsx\n",
      "D:\\Project\\Jupyter\\Stock\\Main\\log\\RunRealTimeStock\\2024-09-19DailyResultWeb.xlsx\n",
      "D:\\Project\\Jupyter\\Stock\\Main\\log\\RunRealTimeStock\\2024-09-20DailyResultWeb.xlsx\n",
      "D:\\Project\\Jupyter\\Stock\\Main\\log\\RunRealTimeStock\\2024-09-23DailyResultWeb.xlsx\n",
      "D:\\Project\\Jupyter\\Stock\\Main\\log\\RunRealTimeStock\\2024-09-24DailyResultWeb.xlsx\n",
      "D:\\Project\\Jupyter\\Stock\\Main\\log\\RunRealTimeStock\\2024-09-25DailyResultWeb.xlsx\n",
      "D:\\Project\\Jupyter\\Stock\\Main\\log\\RunRealTimeStock\\2024-09-26DailyResultWeb.xlsx\n",
      "D:\\Project\\Jupyter\\Stock\\Main\\log\\RunRealTimeStock\\2024-09-27DailyResultWeb.xlsx\n",
      "D:\\Project\\Jupyter\\Stock\\Main\\log\\RunRealTimeStock\\2024-09-30DailyResultWeb.xlsx\n",
      "D:\\Project\\Jupyter\\Stock\\Main\\log\\RunRealTimeStock\\2024-10-01DailyResultWeb.xlsx\n",
      "D:\\Project\\Jupyter\\Stock\\Main\\log\\RunRealTimeStock\\2024-10-04DailyResultWeb.xlsx\n",
      "D:\\Project\\Jupyter\\Stock\\Main\\log\\RunRealTimeStock\\2024-10-07DailyResultWeb.xlsx\n",
      "D:\\Project\\Jupyter\\Stock\\Main\\log\\RunRealTimeStock\\2024-10-08DailyResultWeb.xlsx\n",
      "D:\\Project\\Jupyter\\Stock\\Main\\log\\RunRealTimeStock\\2024-10-09DailyResultWeb.xlsx\n",
      "D:\\Project\\Jupyter\\Stock\\Main\\log\\RunRealTimeStock\\2024-10-11DailyResultWeb.xlsx\n"
     ]
    }
   ],
   "source": [
    "for root, dirs, files in walk(mypath):\n",
    "    for f in files:\n",
    "        fullpath = join(root, f)\n",
    "        pd.read_excel(fullpath).drop_duplicates().to_excel(fullpath, index=False)\n",
    "        print(fullpath)"
   ]
  },
  {
   "cell_type": "code",
   "execution_count": null,
   "id": "c59581b6",
   "metadata": {},
   "outputs": [],
   "source": []
  }
 ],
 "metadata": {
  "kernelspec": {
   "display_name": "Python 3 (ipykernel)",
   "language": "python",
   "name": "python3"
  },
  "language_info": {
   "codemirror_mode": {
    "name": "ipython",
    "version": 3
   },
   "file_extension": ".py",
   "mimetype": "text/x-python",
   "name": "python",
   "nbconvert_exporter": "python",
   "pygments_lexer": "ipython3",
   "version": "3.10.9"
  }
 },
 "nbformat": 4,
 "nbformat_minor": 5
}
