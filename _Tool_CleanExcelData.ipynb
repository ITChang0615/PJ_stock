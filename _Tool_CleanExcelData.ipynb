{
 "cells": [
  {
   "cell_type": "code",
   "execution_count": 5,
   "id": "991a4c8b",
   "metadata": {},
   "outputs": [],
   "source": [
    "from os import listdir\n",
    "from os.path import isfile, isdir, join\n",
    "from os import walk\n",
    "import os\n",
    "from os.path import join, getmtime\n",
    "import pandas as pd\n",
    "import numpy as np"
   ]
  },
  {
   "cell_type": "code",
   "execution_count": 6,
   "id": "4d436e57",
   "metadata": {},
   "outputs": [],
   "source": [
    "mypath = \"D:\\Project\\Jupyter\\Stock\\Main\\log\"\n",
    "files = listdir(mypath)"
   ]
  },
  {
   "cell_type": "code",
   "execution_count": 7,
   "id": "6e88b876",
   "metadata": {},
   "outputs": [
    {
     "name": "stdout",
     "output_type": "stream",
     "text": [
      "D:\\Project\\Jupyter\\Stock\\Main\\log\\check\\check_2024_08_12.xlsx\n",
      "D:\\Project\\Jupyter\\Stock\\Main\\log\\check\\check_2024_08_13.xlsx\n",
      "D:\\Project\\Jupyter\\Stock\\Main\\log\\check\\check_2024_08_14.xlsx\n",
      "D:\\Project\\Jupyter\\Stock\\Main\\log\\check\\check_2024_08_15.xlsx\n",
      "D:\\Project\\Jupyter\\Stock\\Main\\log\\check\\check_2024_08_16.xlsx\n",
      "D:\\Project\\Jupyter\\Stock\\Main\\log\\check\\check_2024_08_19.xlsx\n",
      "D:\\Project\\Jupyter\\Stock\\Main\\log\\check\\check_2024_08_20.xlsx\n",
      "D:\\Project\\Jupyter\\Stock\\Main\\log\\check\\check_2024_08_21.xlsx\n",
      "D:\\Project\\Jupyter\\Stock\\Main\\log\\check\\check_2024_08_22.xlsx\n",
      "D:\\Project\\Jupyter\\Stock\\Main\\log\\check\\check_2024_08_26.xlsx\n",
      "D:\\Project\\Jupyter\\Stock\\Main\\log\\check\\check_2024_08_27.xlsx\n",
      "D:\\Project\\Jupyter\\Stock\\Main\\log\\check\\check_2024_08_28.xlsx\n",
      "D:\\Project\\Jupyter\\Stock\\Main\\log\\check\\check_2024_08_29.xlsx\n",
      "D:\\Project\\Jupyter\\Stock\\Main\\log\\DailyResult\\DailyResult_2023-11-16.xlsx\n",
      "D:\\Project\\Jupyter\\Stock\\Main\\log\\DailyResult\\DailyResult_2024-02-05.xlsx\n",
      "D:\\Project\\Jupyter\\Stock\\Main\\log\\DailyResult\\DailyResult_2024-04-03.xlsx\n",
      "D:\\Project\\Jupyter\\Stock\\Main\\log\\DailyResult\\DailyResult_2024-07-31.xlsx\n",
      "D:\\Project\\Jupyter\\Stock\\Main\\log\\DailyResult\\DailyResult_2024-08-12.xlsx\n",
      "D:\\Project\\Jupyter\\Stock\\Main\\log\\DailyResult\\DailyResult_2024-08-13.xlsx\n",
      "D:\\Project\\Jupyter\\Stock\\Main\\log\\DailyResult\\DailyResult_2024-08-14.xlsx\n",
      "D:\\Project\\Jupyter\\Stock\\Main\\log\\DailyResult\\DailyResult_2024-08-15.xlsx\n",
      "D:\\Project\\Jupyter\\Stock\\Main\\log\\DailyResult\\DailyResult_2024-08-16.xlsx\n",
      "D:\\Project\\Jupyter\\Stock\\Main\\log\\DailyResult\\DailyResult_2024-08-19.xlsx\n",
      "D:\\Project\\Jupyter\\Stock\\Main\\log\\DailyResult\\DailyResult_2024-08-20.xlsx\n",
      "D:\\Project\\Jupyter\\Stock\\Main\\log\\DailyResult\\DailyResult_2024-08-21.xlsx\n",
      "D:\\Project\\Jupyter\\Stock\\Main\\log\\DailyResult\\DailyResult_2024-08-22.xlsx\n",
      "D:\\Project\\Jupyter\\Stock\\Main\\log\\DailyResult\\DailyResult_2024-08-23.xlsx\n",
      "D:\\Project\\Jupyter\\Stock\\Main\\log\\DailyResult\\DailyResult_2024-08-26.xlsx\n",
      "D:\\Project\\Jupyter\\Stock\\Main\\log\\DailyResult\\DailyResult_2024-08-27.xlsx\n",
      "D:\\Project\\Jupyter\\Stock\\Main\\log\\DailyResult\\DailyResult_2024-08-28.xlsx\n",
      "D:\\Project\\Jupyter\\Stock\\Main\\log\\DailyResult\\DailyResult_2024-08-29.xlsx\n",
      "D:\\Project\\Jupyter\\Stock\\Main\\log\\DailyResult\\DailyResult_2024-08-30.xlsx\n",
      "D:\\Project\\Jupyter\\Stock\\Main\\log\\RunRealTimeStock\\2024-08-12DailyResultWeb.xlsx\n",
      "D:\\Project\\Jupyter\\Stock\\Main\\log\\RunRealTimeStock\\2024-08-13DailyResultWeb.xlsx\n",
      "D:\\Project\\Jupyter\\Stock\\Main\\log\\RunRealTimeStock\\2024-08-14DailyResultWeb.xlsx\n",
      "D:\\Project\\Jupyter\\Stock\\Main\\log\\RunRealTimeStock\\2024-08-15DailyResultWeb.xlsx\n",
      "D:\\Project\\Jupyter\\Stock\\Main\\log\\RunRealTimeStock\\2024-08-16DailyResultWeb.xlsx\n",
      "D:\\Project\\Jupyter\\Stock\\Main\\log\\RunRealTimeStock\\2024-08-19DailyResultWeb.xlsx\n",
      "D:\\Project\\Jupyter\\Stock\\Main\\log\\RunRealTimeStock\\2024-08-20DailyResultWeb.xlsx\n",
      "D:\\Project\\Jupyter\\Stock\\Main\\log\\RunRealTimeStock\\2024-08-21DailyResultWeb.xlsx\n",
      "D:\\Project\\Jupyter\\Stock\\Main\\log\\RunRealTimeStock\\2024-08-22DailyResultWeb.xlsx\n",
      "D:\\Project\\Jupyter\\Stock\\Main\\log\\RunRealTimeStock\\2024-08-23DailyResultWeb.xlsx\n",
      "D:\\Project\\Jupyter\\Stock\\Main\\log\\RunRealTimeStock\\2024-08-26DailyResultWeb.xlsx\n",
      "D:\\Project\\Jupyter\\Stock\\Main\\log\\RunRealTimeStock\\2024-08-27DailyResultWeb.xlsx\n",
      "D:\\Project\\Jupyter\\Stock\\Main\\log\\RunRealTimeStock\\2024-08-28DailyResultWeb.xlsx\n",
      "D:\\Project\\Jupyter\\Stock\\Main\\log\\RunRealTimeStock\\2024-08-29DailyResultWeb.xlsx\n",
      "D:\\Project\\Jupyter\\Stock\\Main\\log\\RunRealTimeStock\\2024-08-30DailyResultWeb.xlsx\n",
      "D:\\Project\\Jupyter\\Stock\\Main\\log\\RunRealTimeStock\\2024-08-31DailyResultWeb.xlsx\n"
     ]
    }
   ],
   "source": [
    "for root, dirs, files in walk(mypath):\n",
    "    for f in files:\n",
    "        fullpath = join(root, f)\n",
    "        pd.read_excel(fullpath).drop_duplicates().to_excel(fullpath, index=False)\n",
    "        print(fullpath)"
   ]
  }
 ],
 "metadata": {
  "kernelspec": {
   "display_name": "Python 3 (ipykernel)",
   "language": "python",
   "name": "python3"
  },
  "language_info": {
   "codemirror_mode": {
    "name": "ipython",
    "version": 3
   },
   "file_extension": ".py",
   "mimetype": "text/x-python",
   "name": "python",
   "nbconvert_exporter": "python",
   "pygments_lexer": "ipython3",
   "version": "3.10.9"
  }
 },
 "nbformat": 4,
 "nbformat_minor": 5
}
