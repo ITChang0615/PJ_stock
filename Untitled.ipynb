{
 "cells": [
  {
   "cell_type": "code",
   "execution_count": 1,
   "id": "f6f10678",
   "metadata": {},
   "outputs": [],
   "source": [
    "import os\n",
    "from os.path import join, getmtime\n",
    "import pandas as pd\n",
    "import numpy as np\n",
    "from datetime import datetime, timedelta\n",
    "pd.set_option('display.max_columns', None)\n",
    "pd.set_option('display.max_rows', None)"
   ]
  },
  {
   "cell_type": "code",
   "execution_count": 2,
   "id": "861ad88a",
   "metadata": {},
   "outputs": [],
   "source": [
    "today = datetime.today().date()\n",
    "adate=datetime.now().strftime('%Y-%m-%d')"
   ]
  },
  {
   "cell_type": "markdown",
   "id": "a168f362",
   "metadata": {},
   "source": [
    "#adate=\"2025-02-17\"\n",
    "\n",
    "today=(datetime.now()-timedelta(days=1)).date()\n",
    "adate=(datetime.now()).strftime(\"%Y-%m-%d\")\n",
    "#adate=today.strftime(\"%Y-%m-%d\")"
   ]
  },
  {
   "cell_type": "code",
   "execution_count": 3,
   "id": "cf203ec3",
   "metadata": {},
   "outputs": [
    {
     "data": {
      "text/plain": [
       "['2025-02-11',\n",
       " '2025-02-12',\n",
       " '2025-02-13',\n",
       " '2025-02-14',\n",
       " '2025-02-15',\n",
       " '2025-02-16',\n",
       " '2025-02-17',\n",
       " '2025-02-18',\n",
       " '2025-02-19',\n",
       " '2025-02-20']"
      ]
     },
     "execution_count": 3,
     "metadata": {},
     "output_type": "execute_result"
    }
   ],
   "source": [
    "start_month = '2023-01-01'\n",
    "start_date = datetime.strptime(start_month, \"%Y-%m-%d\").date()\n",
    "dateList = []\n",
    "current_date = start_date\n",
    "while current_date <= today:\n",
    "    dateList.append(f\"{current_date.year}-{current_date.month:02d}-{current_date.day:02d}\")\n",
    "    current_date += timedelta(days=1)\n",
    "    \n",
    "dateList=dateList[-10:]\n",
    "dateList"
   ]
  },
  {
   "cell_type": "code",
   "execution_count": 4,
   "id": "b5211fda",
   "metadata": {},
   "outputs": [
    {
     "data": {
      "text/plain": [
       "'2025-02-20'"
      ]
     },
     "execution_count": 4,
     "metadata": {},
     "output_type": "execute_result"
    }
   ],
   "source": [
    "adate"
   ]
  },
  {
   "cell_type": "code",
   "execution_count": 5,
   "id": "3d80a520",
   "metadata": {},
   "outputs": [
    {
     "name": "stdout",
     "output_type": "stream",
     "text": [
      "error----->D:\\Project\\Jupyter\\Stock\\Main\\Result\\DailyFiles\\2025-02-15.xlsx\n",
      "error----->D:\\Project\\Jupyter\\Stock\\Main\\Result\\DailyFiles\\2025-02-16.xlsx\n"
     ]
    }
   ],
   "source": [
    "new_DailyResult_path_List=[]\n",
    "new_RunRealTimeStock_path_List = [f'D:\\\\Project\\\\Jupyter\\\\Stock\\\\Main\\\\Result\\\\DailyRunRealTimeStock\\\\{adate}.xlsx']\n",
    "new_DailyResult_path_List = [ f\"D:\\Project\\Jupyter\\Stock\\Main\\Result\\DailyFiles\\\\{date}.xlsx\" for date in dateList] \n",
    "data=StockBaseData=pd.read_csv('BaseInfo/StockBaseData.csv', converters={'公司代號': str})\n",
    "\n",
    "_df =  pd.DataFrame()\n",
    "for path in new_RunRealTimeStock_path_List:\n",
    "    try:\n",
    "        _df=pd.concat([pd.read_excel(path), _df])\n",
    "    except:\n",
    "        print('error----->'+path)\n",
    "    \n",
    "_df2 = pd.DataFrame()\n",
    "for path in new_DailyResult_path_List:\n",
    "    try:\n",
    "        _df2=pd.concat([pd.read_excel(path), _df2])\n",
    "    except:\n",
    "        print('error----->'+path)\n",
    "        \n",
    "df=pd.merge( _df2,_df[pd.notna(_df['now_price'])], left_on='stock_number', right_on='stock_number', how='outer')\n",
    "\n",
    "#print(_df2.dtypes)\n",
    "#print(_df.dtypes)"
   ]
  },
  {
   "cell_type": "code",
   "execution_count": 6,
   "id": "5bc118e0",
   "metadata": {},
   "outputs": [],
   "source": [
    "df.rename(columns={'日期_x': '日期'}, inplace=True)\n",
    "df.rename(columns={'now_price_y': 'now_price'}, inplace=True)\n",
    "df.rename(columns={'change_price_y': 'change_price'}, inplace=True)\n",
    "df.rename(columns={'change_quote_y': 'change_quote'}, inplace=True)\n",
    "df['日期'] = df['日期'].dt.strftime('%Y-%m-%d')\n",
    "df['highlight_date'] = df['highlight_date'].dt.strftime('%Y-%m-%d')"
   ]
  },
  {
   "cell_type": "code",
   "execution_count": 7,
   "id": "aa3ba135",
   "metadata": {},
   "outputs": [],
   "source": [
    "def  GetStockInfoByID(StocKID,strtype):\n",
    "    try :\n",
    "        result=data[data['公司代號']==StocKID]\n",
    "        if strtype=='name':\n",
    "            return result.iloc[0]['公司簡稱']\n",
    "        if strtype=='category':\n",
    "            if result.iloc[0]['Type']==\"上櫃\" :\n",
    "                return result.iloc[0]['上櫃公司產業類別']\n",
    "            else:\n",
    "                return result.iloc[0]['上市公司產業類別']\n",
    "        if strtype=='type':\n",
    "            return result.iloc[0]['Type']\n",
    "    except :\n",
    "        print(StocKID)"
   ]
  },
  {
   "cell_type": "code",
   "execution_count": 8,
   "id": "0c5d6654",
   "metadata": {},
   "outputs": [],
   "source": [
    "def stock_recommend(row):\n",
    "    _str='--'\n",
    "    _quote=float( row['_quote'])\n",
    "    _level=float( row['level'])\n",
    "\n",
    "    if int(row['遠交易量'])>0 and _quote > -2:   \n",
    "        _str+='遠期量推'\n",
    "    if row['短增'] and int(row['短交易量'])>0 and int(row['遠交易量'])>0 and _quote > -1:   \n",
    "        _str+='近期量推'\n",
    "        if int(row['成交股數'])>50000:\n",
    "            _str+='量大'\n",
    "   \n",
    "        \n",
    "    if row['interval_type']=='負區間':\n",
    "        if  _level >= 40:\n",
    "            _str+='探底'\n",
    "            if row['Signal_Balance_uptrend_3days'] and  row['Signal_Balance_uptrend']  :\n",
    "                _str+='有撐'  \n",
    "            else:\n",
    "                _str='--'\n",
    "    if row['短增'] and int(row['短交易量'])>0 and int(row['遠交易量'])>0 and _quote > 4:\n",
    "        _str+='ShowTime'\n",
    "    return _str\n",
    "def stock_recommend2(row):\n",
    "    _str='--'\n",
    "    _quote=float( row['_quote'])\n",
    "    _level=float( row['level'])\n",
    "    if len(row['recommend'] )>0:\n",
    "        \n",
    "        if row['interval_type']=='正區間':\n",
    "            if  _level >= 90:\n",
    "                _str+='追高' \n",
    "\n",
    "        if row['interval_type']=='負區間':\n",
    "            if  _level >= 40:\n",
    "                _str+='探底'       \n",
    "\n",
    "            if row['Signal_Balance_uptrend_3days'] and  row['Signal_Balance_uptrend']  :\n",
    "                _str+='有撐'  \n",
    "            \n",
    "    return _str\n",
    "\n",
    "def stock_LevelArea(row):\n",
    "    _level=float( row['level'])\n",
    "\n",
    "    if row['interval_type']=='正區間': \n",
    "        _level=_level*1\n",
    "\n",
    "    if row['interval_type']=='負區間':\n",
    "        _level=_level*-1\n",
    "            \n",
    "    return _level\n",
    "\n",
    "def  stock_quote(row):\n",
    "      return str(format(float(row['漲跌價差'])/float(row['開盤價'])*100, '.2f'))    \n",
    "    \n",
    "def  diff_quote(row):\n",
    "    try :\n",
    "        if float(row['收盤價'])!=0:\n",
    "           # return str(format((float(row['change_quote'])-float(row['_quote'])) /float(row['_quote'])*100, '.2f'))    \n",
    "            return format((float(row['now_price'])-float(row['收盤價'])) /float(row['收盤價'])*100, '.2f')\n",
    "\n",
    "    except FileNotFoundError:\n",
    "        print(row['_quote'])\n",
    "\n",
    "def trading_volume(row):\n",
    "    data=row['成交股數']\n",
    "    try :\n",
    "         if row['Type2']=='上市': \n",
    "                data=data/1000\n",
    "    except FileNotFoundError:\n",
    "          print(data)\n",
    "        \n",
    "    return data"
   ]
  },
  {
   "cell_type": "code",
   "execution_count": 9,
   "id": "1444291b",
   "metadata": {},
   "outputs": [],
   "source": [
    "# Apply stock information based on 'stock_number' and add new columns\n",
    "df['Type0'] = df.apply(lambda x: f\"{GetStockInfoByID(str(x['stock_number']),'name')}\", axis=1)\n",
    "df['Type1'] = df.apply(lambda x: f\"{GetStockInfoByID(str(x['stock_number']),'category')}\", axis=1)\n",
    "df['Type2'] = df.apply(lambda x: f\"{GetStockInfoByID(str(x['stock_number']),'type')}\", axis=1)\n",
    "df['Type'] = df['Type0'] + '-' + df['Type1'] + '-' + df['Type2']\n",
    "\n",
    "# Clean and convert 'change_quote' to numeric, handle invalid values\n",
    "df['change_quote'] = df['change_quote'].astype(str).str.replace(\"+\", \"\", regex=False).str.replace(\"%\", \"\", regex=False)\n",
    "df['change_quote'] = pd.to_numeric(df['change_quote'], errors='coerce').fillna('0.00').astype(str)\n",
    "df['MACD'] = df['MACD'] .astype(float).apply(lambda x: f\"{x:.2f}\").astype(str)\n",
    "df['MACD-SL'] = df['MACD-SL'].astype(float).apply(lambda x: f\"{x:.2f}\").astype(str)\n",
    "\n",
    "# Convert 'now_price', '收盤價' to numeric with '0.00' fallback\n",
    "df['now_price'] = pd.to_numeric(df['now_price'], errors='coerce').fillna('0.00').astype(str)\n",
    "df['收盤價'] = pd.to_numeric(df['收盤價'], errors='coerce').fillna('0.00').astype(str)\n",
    "\n",
    "# Clean up other columns and fill missing values\n",
    "df['Signal_Balance_roll'] = pd.to_numeric(df['Signal_Balance_roll'], errors='coerce').fillna(0)\n",
    "df['MA_break'] = df['MA_break'].fillna(False)\n",
    "df['MACD_golden_cross'] = df['MACD_golden_cross'].fillna(False)\n",
    "df['stock_number'] = df['stock_number'].astype(str)\n",
    "\n",
    "# Handle 'Trend' column, filling NaN with '--' and replacing '0' with '-'\n",
    "df['Trend'] = df['Trend'].fillna(\"--\").astype(str).replace(\"0\", \"-\")\n",
    "\n",
    "# Convert signal columns to string and perform calculations\n",
    "df['Signal_Balance_uptrend_3days'] = df['Signal_Balance_uptrend_3days'].astype(str)\n",
    "df['Weighted_Signa_over_threshold'] = df['Weighted_Signa_over_threshold'].astype(str)\n",
    "df['Signal_Balance_roll'] = (df['Signal_Balance_roll'] * 10).astype(str)\n",
    "\n",
    "# Clean and convert 'Volume_Oscillator'\n",
    "df['Volume_Oscillator'] = df['Volume_Oscillator'].fillna('0').astype(int).astype(str)\n",
    "\n",
    "# Multiply 'level' and convert 'now_price' to string\n",
    "df['level'] = (df['level'] * 100).astype(str)\n",
    "df['now_price'] = df['now_price'].astype(str)\n",
    "\n",
    "# Calculate and clean up trading volume metrics\n",
    "df['短交易量o'] = df['短交易量']\n",
    "df['遠交易量o'] =df['遠交易量'] \n",
    "#-----------------------------------\n",
    "df['短交易量'] = (df['成交金額'] - df['Volume_MA_short']) / df['Volume_MA_short']\n",
    "df['遠交易量'] = (df['Volume_MA_short'] - df['Volume_MA_long']) / df['Volume_MA_long']\n",
    "#-----------------------------------\n",
    "\n",
    "df['短增'] = df['短交易量'] > df['遠交易量']\n",
    "\n",
    "# Calculate price difference and volume-price ratio\n",
    "df['漲跌價差'] = pd.to_numeric(df['漲跌價差'], errors='coerce').fillna(0)\n",
    "df['量增與漲幅倍率'] = (df['漲跌價差'] / df['開盤價']) * 100 / df['短交易量']\n",
    "\n",
    "# Flag rows with significant volume increase and positive price change\n",
    "df['量增'] = (df['短交易量'] > df['遠交易量']) & (df['短交易量'] > 0) & (df['遠交易量'] > 0) & (df['量增與漲幅倍率'] > 0)\n",
    "\n",
    "i=100\n",
    "# Multiply trading volumes by 100 and fill NaN with '0'\n",
    "df['短交易量'] = (df['短交易量'] * i).fillna('0').astype(int)\n",
    "df['遠交易量'] = (df['遠交易量'] * i).fillna('0').astype(int)\n",
    "\n",
    "df['短交易量'] = df['短交易量'].astype(str)\n",
    "df['遠交易量'] = df['遠交易量'].astype(str)\n",
    "\n",
    "\n",
    "df['Volume_Price_Change_sum'] = df['Volume_Price_Change_sum'].fillna('0').astype(str)\n",
    "\n",
    "\n",
    "# Apply custom functions for additional calculations\n",
    "df['_quote'] = df.apply(stock_quote, axis=1)\n",
    "df['recommend'] = df.apply(stock_recommend, axis=1)\n",
    "df['recommend2'] = df.apply(stock_recommend2, axis=1)\n",
    "df['LevelArea'] = df.apply(stock_LevelArea, axis=1)\n",
    "df['diff_quote'] = df.apply(diff_quote, axis=1)\n",
    "df['成交股數'] = df.apply(trading_volume, axis=1)\n",
    "\n",
    "# Replace all '-' values with 0\n",
    "df.replace('-', 0, inplace=True)"
   ]
  },
  {
   "cell_type": "code",
   "execution_count": 10,
   "id": "d6fd2531",
   "metadata": {},
   "outputs": [],
   "source": [
    "aa=df\n",
    "aa['Volume_Price_Change_sum'] = pd.to_numeric(aa['Volume_Price_Change_sum'], errors='coerce')\n",
    "aa['遠交易量'] = pd.to_numeric(aa['遠交易量'], errors='coerce')\n",
    "aa['短交易量'] = pd.to_numeric(aa['短交易量'], errors='coerce')\n",
    "aa['_quote'] = pd.to_numeric(aa['_quote'], errors='coerce')\n",
    "aa['Highest_High'] = pd.to_numeric(aa['Highest_High'], errors='coerce')\n",
    "aa['now_price'] = pd.to_numeric(aa['now_price'], errors='coerce')\n",
    "aa['收盤價'] = pd.to_numeric(aa['收盤價'], errors='coerce')\n",
    "aa['過壓力區']= aa['收盤價']/aa['Lowest_Low'] \n",
    "\n",
    "aa['收盤價'] =pd.to_numeric(aa['收盤價'], errors='coerce').apply(lambda x: f\"{x:.2f}\" if pd.notna(x) else \"0\").astype(float)\n",
    "aa['最低價'] =pd.to_numeric(aa['最低價'], errors='coerce').apply(lambda x: f\"{x:.2f}\" if pd.notna(x) else \"0\").astype(float)\n",
    "aa['最高價'] =pd.to_numeric(aa['最高價'], errors='coerce').apply(lambda x: f\"{x:.2f}\" if pd.notna(x) else \"0\").astype(float)\n",
    "\n",
    "aa['價能O'] =((aa['收盤價']-aa['最低價'])/aa['最低價'])-((aa['最高價']-aa['收盤價'])/aa['收盤價']) \n",
    "\n",
    "aa['價能O'] = (aa['價能O']*100 ) .apply(lambda x: f\"{x:.2f}\").astype(str)\n"
   ]
  },
  {
   "cell_type": "code",
   "execution_count": 11,
   "id": "152e0c55",
   "metadata": {},
   "outputs": [],
   "source": [
    "## 取得其他資訊\n",
    "# 读取 Excel 文件\n",
    "stock_info = pd.read_excel('Result/StockInfo.xlsx', engine='openpyxl')\n",
    "# 确保两个 DataFrame 的 `stock_number` 列为字符串类型\n",
    "aa['stock_number'] = aa['stock_number'].astype(str)\n",
    "\n",
    "stock_info['stock_number'] = stock_info['stock_number'].astype(str)\n",
    "stock_info['成交量'] = (stock_info['成交量'] .str.replace(\",\", \"\"))\n",
    "stock_info['殖利率']=stock_info['殖利率'].str.replace(\"%\", \"\")\n",
    "stock_info['總市值'] = (stock_info['總市值'] .str.replace(\",\", \"\"))\n",
    "stock_info['一年內最大量'] = (stock_info['一年內最大量'] .str.replace(\",\", \"\"))\n",
    "stock_info['一年內最低量'] = (stock_info['一年內最低量'] .str.replace(\",\", \"\"))\n",
    "stock_info['價能'] =((stock_info['收盤價']-stock_info['最低價'])/stock_info['最低價'])-((stock_info['最高價']-stock_info['收盤價'])/stock_info['收盤價']) \n",
    "stock_info['量比'] = stock_info['成交量'].astype(int) / stock_info['一年內最大量'].astype(int)\n",
    "stock_info['價能'] = (stock_info['價能']*100 ) .apply(lambda x: f\"{x:.2f}\").astype(str)\n",
    "stock_info['量比'] = (stock_info['量比']*100 ) .apply(lambda x: f\"{x:.2f}\").astype(str)\n",
    "# 合并两个 DataFrame\n",
    "aa = pd.merge(left=aa, right=stock_info, on=\"stock_number\",how='left')\n",
    "\n",
    "aa['營收比重'] = aa['營收比重'].fillna(\"-\")"
   ]
  },
  {
   "cell_type": "code",
   "execution_count": 12,
   "id": "e91e5bc0",
   "metadata": {},
   "outputs": [
    {
     "data": {
      "text/plain": [
       "array(['日期', '成交股數', '成交金額', '開盤價_x', '最高價_x', '最低價_x', '收盤價_x', '漲跌價差',\n",
       "       '成交筆數', 'Year', 'Date', 'Date_', '年月日', 'EMA_12', 'EMA_26', 'MACD',\n",
       "       'MACD-SL', 'DIF', 'MACD_golden_cross', 'Lowest_Low',\n",
       "       'Highest_High', '%K', '%D', 'KD_golden_cross', 'Volume_MA_short',\n",
       "       'Volume_MA_long', 'Volume_Oscillator', 'Volume_breakout',\n",
       "       'MA_short', 'MA_long', 'MA_break', 'MA_short_volatility',\n",
       "       'MA_long_volatility', 'Is_Entangled', 'MA_short_change',\n",
       "       'MA_long_change', 'Bollinger_MA', 'Bollinger_STD',\n",
       "       'Bollinger_upper', 'Bollinger_lower', 'Bollinger_breakout', 'RSI',\n",
       "       'RSI_rebound', 'Price_Change', 'Volume_Price_Change',\n",
       "       'Volume_Price_Change_sum', 'Volume_Change', 'Volume_Change_sum',\n",
       "       'Bar_Color', 'Close_above_MA', 'Close_above_MA_5days', 'Analysis',\n",
       "       'Signal_Balance', 'Signal_Balance_roll',\n",
       "       'Signal_Balance_roll_diff', 'Signal_Balance_uptrend',\n",
       "       'Signal_Balance_uptrend_3days', 'Trend', 'Trend_level',\n",
       "       'Trend_change', 'Weighted_Signal', 'Weighted_Signa_over_threshold',\n",
       "       'Weighted_Signal_roll', 'Weighted_Signal_roll_',\n",
       "       'Weighted_Signal_golden_cross', '短交易量', '遠交易量', '短增量', 'highlight',\n",
       "       'highlight_date', 'stock_number', 'level', 'interval_type',\n",
       "       'lower_bound', 'upper_bound', 'now_price_x', 'change_price_x',\n",
       "       'change_quote_x', '日期_y', 'now_price', 'change_price',\n",
       "       'change_quote', 'Type0', 'Type1', 'Type2', 'Type', '短交易量o',\n",
       "       '遠交易量o', '短增', '量增與漲幅倍率', '量增', '_quote', 'recommend',\n",
       "       'recommend2', 'LevelArea', 'diff_quote', '過壓力區', '價能O', '開盤價_y',\n",
       "       '最高價_y', '最低價_y', '收盤價_y', '漲跌', '一年內最高價', '一年內最低價', '本益比',\n",
       "       '一年內最大量', '一年內最低量', '成交量', '同業平均本益比', '一年來最高本益比', '一年來最低本益比',\n",
       "       '盤後量', '殖利率', '總市值', '85年來最高總市值', '85年來最低總市值', '投資報酬率(02/20)',\n",
       "       '獲利能力(113.3Q)', '今年以來', '每股淨值(元)', '營業毛利率', '貝他值', '最近一週',\n",
       "       '每人營收(仟元)', '營業利益率', '標準差', '最近一個月', '每股營收(元)', '稅前淨利率', '最近二個月',\n",
       "       '負債比例', '資產報酬率', '最近三個月', '股價淨值比', '股東權益報酬率', '營收比重',\n",
       "       '獲利能力(113.4Q)', '價能', '量比'], dtype=object)"
      ]
     },
     "execution_count": 12,
     "metadata": {},
     "output_type": "execute_result"
    }
   ],
   "source": [
    "aa.columns.values"
   ]
  },
  {
   "cell_type": "code",
   "execution_count": 13,
   "id": "959db092",
   "metadata": {},
   "outputs": [],
   "source": [
    "aa['_quote'] = pd.to_numeric(aa['_quote'], errors='coerce')\n",
    "aa['短交易量'] = pd.to_numeric(aa['短交易量'], errors='coerce')\n",
    "aa['本益比'] = pd.to_numeric(aa['本益比'], errors='coerce')\n",
    "aa['_quote'] = pd.to_numeric(aa['_quote'], errors='coerce')\n",
    "aa['diff_quote'] = pd.to_numeric(aa['diff_quote'], errors='coerce')\n",
    "\n",
    "aa['rt_price']  =''\n",
    "aa['rt_量']=''"
   ]
  },
  {
   "cell_type": "code",
   "execution_count": 14,
   "id": "fb77f253",
   "metadata": {},
   "outputs": [
    {
     "data": {
      "text/plain": [
       "551"
      ]
     },
     "execution_count": 14,
     "metadata": {},
     "output_type": "execute_result"
    }
   ],
   "source": [
    "bb=aa[ \n",
    "    (aa['stock_number']!='')\n",
    "    ## &  (aa['stock_number'].isin(list(set(_filter['stock_number']))))\n",
    "    ## &  ((aa['%K'] >= aa['%D'] * 1) | ((aa['%K'] > aa['%D']) & (aa['%D'] == 100)))\n",
    "    &  ((aa['MACD'] >= aa['MACD-SL'] * 1)   & (aa['MACD-SL'] > str(0)))\n",
    "    \n",
    "    & (aa['短交易量o']>0 )\n",
    "    & (aa['短交易量']>0 )\n",
    "    & (aa['遠交易量']>-15 )\n",
    "    & (aa['Trend_change']>=0 )\n",
    "    \n",
    "    & (aa['Volume_Oscillator']>=str(0) )\n",
    "    \n",
    "    ].drop_duplicates()\n",
    "\n",
    "len(list(set(bb['stock_number'])))"
   ]
  },
  {
   "cell_type": "markdown",
   "id": "5f331b29",
   "metadata": {},
   "source": [
    "aa[aa['stock_number']=='1101'].drop_duplicates().head(4)"
   ]
  },
  {
   "cell_type": "code",
   "execution_count": 15,
   "id": "a8f25163",
   "metadata": {},
   "outputs": [],
   "source": [
    "adate=today.strftime('%Y-%m-%d')"
   ]
  },
  {
   "cell_type": "code",
   "execution_count": 16,
   "id": "2ba36975",
   "metadata": {
    "scrolled": true
   },
   "outputs": [
    {
     "name": "stderr",
     "output_type": "stream",
     "text": [
      "C:\\Users\\user\\AppData\\Local\\Temp\\ipykernel_46772\\88110150.py:26: UserWarning: Boolean Series key will be reindexed to match DataFrame index.\n",
      "  bb[output_col][ (aa['日期']<=adate) ].drop_duplicates().sort_values(by=['stock_number','日期',], ascending=False).to_excel(to_excel, index=False)\n",
      "C:\\Users\\user\\AppData\\Local\\Temp\\ipykernel_46772\\88110150.py:29: UserWarning: Boolean Series key will be reindexed to match DataFrame index.\n",
      "  bb[output_col][ (aa['highlight']==True) ].drop_duplicates().sort_values(by=['stock_number','日期',], ascending=False).to_excel(to_excel, index=False)\n",
      "C:\\Users\\user\\AppData\\Local\\Temp\\ipykernel_46772\\88110150.py:32: UserWarning: Boolean Series key will be reindexed to match DataFrame index.\n",
      "  bb[output_col][ (aa['日期']==adate) ].drop_duplicates().sort_values(by=['stock_number','日期',], ascending=False).to_excel(to_excel1, index=False)\n",
      "C:\\Users\\user\\AppData\\Local\\Temp\\ipykernel_46772\\88110150.py:35: UserWarning: Boolean Series key will be reindexed to match DataFrame index.\n",
      "  bb[output_col][ (aa['highlight']==True)   & (aa['Trend_change']>=1 ) ].drop_duplicates().sort_values(by=['stock_number','日期',], ascending=False).to_excel(to_excel, index=False)\n"
     ]
    },
    {
     "name": "stdout",
     "output_type": "stream",
     "text": [
      "http://localhost/IT/menu.html\n"
     ]
    }
   ],
   "source": [
    "#--------------------------------------------------------\n",
    "output_col=['stock_number','日期','_quote',\n",
    "            #'收盤價_x' ,\n",
    "            'now_price','rt_price','LevelArea',\n",
    "            'MACD','MACD-SL',\n",
    "            '價能O',\n",
    "            #'Trend',\n",
    "            '成交股數','rt_量','短交易量o','遠交易量o',\n",
    "            #'短交易量','遠交易量',\n",
    "            'Trend_change',\n",
    "            #'highlight',\n",
    "            'highlight_date',\n",
    "             #'recommend','recommend2','量增',\n",
    "            '成交金額','change_quote','diff_quote', \n",
    "             '價能', '量比',\n",
    "            'Type0', 'Type1', 'Type2',\n",
    "            '殖利率','每股淨值(元)','每股營收(元)','本益比',\n",
    "            '同業平均本益比','總市值','Volume_Price_Change_sum','營收比重','Type',\n",
    "           ]\n",
    "#--------------------------------------------------------\n",
    "bb[output_col] = bb[output_col].fillna(\"0\")\n",
    "bb[output_col] = bb[output_col].astype(str)\n",
    "bb[output_col] = bb[output_col].replace([\"NaN\",\"nan\",\"None\", \"\"], \"0\")\n",
    "\n",
    "to_excel='Result/check.xlsx' \n",
    "bb[output_col][ (aa['日期']<=adate) ].drop_duplicates().sort_values(by=['stock_number','日期',], ascending=False).to_excel(to_excel, index=False)\n",
    "\n",
    "to_excel='Result/checkH.xlsx' \n",
    "bb[output_col][ (aa['highlight']==True) ].drop_duplicates().sort_values(by=['stock_number','日期',], ascending=False).to_excel(to_excel, index=False)\n",
    "\n",
    "to_excel1='Result/check1.xlsx' \n",
    "bb[output_col][ (aa['日期']==adate) ].drop_duplicates().sort_values(by=['stock_number','日期',], ascending=False).to_excel(to_excel1, index=False)\n",
    "\n",
    "to_excel='Result/check2.xlsx' \n",
    "bb[output_col][ (aa['highlight']==True)   & (aa['Trend_change']>=1 ) ].drop_duplicates().sort_values(by=['stock_number','日期',], ascending=False).to_excel(to_excel, index=False)\n",
    "\n",
    "\n",
    "cc=aa.copy()\n",
    "cc[output_col] = cc[output_col].astype(str)\n",
    "cc[output_col] = cc[output_col].replace([\"NaN\",\"nan\",\"None\", \"\"], \"0\")\n",
    "\n",
    "to_excel='Result/checkall.xlsx' \n",
    "cc[output_col][ (aa['日期']==adate)\n",
    "              ].drop_duplicates().sort_values(by=['stock_number','日期',], ascending=False).to_excel(to_excel, index=False)\n",
    "\n",
    "to_excel='.xlsx' \n",
    "for _date in dateList: \n",
    "    cc[output_col][ (aa['日期']==_date) \n",
    "               ].drop_duplicates().sort_values(by=['stock_number','日期',], ascending=False).to_excel('Result/checkall/'+_date+to_excel, index=False) \n",
    "\n",
    "to_excel1='Result/check3.xlsx'   \n",
    "myList=['6228','6170','2059','8028','3219','3035','3711','3059']\n",
    "myList=['1536','2605','2354','6558','1303','4916','8028']\n",
    "\n",
    "cc[output_col][ (aa['日期']==adate) & (aa['stock_number'].isin(myList))].drop_duplicates().sort_values(by=['stock_number','日期',], ascending=False).to_excel(to_excel1, index=False)\n",
    "\n",
    "\n",
    "to_excel1='Result/checkmy.xlsx'   \n",
    "myList=[ '1101', '1215','1599', '2301', '2349', '2367', '2376', '2402','3066', '4564', '4953', '4966', '6117','6789']\n",
    "cc[output_col][ (aa['日期']==adate) & (aa['stock_number'].isin(myList))].drop_duplicates().sort_values(by=['stock_number','日期',], ascending=False).to_excel(to_excel1, index=False)\n",
    "\n",
    "to_excel1='Result/check4.xlsx'   \n",
    "cc[output_col][ (aa['日期']==adate) & (aa['highlight'] == True)\n",
    "              ].drop_duplicates().sort_values(by=['stock_number','日期',], ascending=False).to_excel(to_excel1, index=False)\n",
    "\n",
    "print(\"http://localhost/IT/menu.html\")"
   ]
  },
  {
   "cell_type": "markdown",
   "id": "bb5466e8",
   "metadata": {},
   "source": [
    "function getMissingElements(array1, array2) {\n",
    "    return array1.filter(element => !array2.includes(element));\n",
    "\n",
    "}\n",
    "array1=app.jsonData.map(x=>x.stock_number)\n",
    "array2=app.filteredData.map(x=>x.stock_number)\n",
    "getMissingElements(array1, array2);"
   ]
  },
  {
   "cell_type": "code",
   "execution_count": null,
   "id": "13788469",
   "metadata": {},
   "outputs": [],
   "source": []
  }
 ],
 "metadata": {
  "kernelspec": {
   "display_name": "Python 3 (ipykernel)",
   "language": "python",
   "name": "python3"
  },
  "language_info": {
   "codemirror_mode": {
    "name": "ipython",
    "version": 3
   },
   "file_extension": ".py",
   "mimetype": "text/x-python",
   "name": "python",
   "nbconvert_exporter": "python",
   "pygments_lexer": "ipython3",
   "version": "3.10.9"
  }
 },
 "nbformat": 4,
 "nbformat_minor": 5
}
