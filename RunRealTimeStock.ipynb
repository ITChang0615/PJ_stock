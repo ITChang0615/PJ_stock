{
 "cells": [
  {
   "cell_type": "markdown",
   "id": "d00c0701",
   "metadata": {},
   "source": [
    "# 目的說明\n",
    "\n"
   ]
  },
  {
   "cell_type": "markdown",
   "id": "b5aa31bf",
   "metadata": {},
   "source": [
    "#去yahoo抓取當下股票情況 價錢/漲跌"
   ]
  },
  {
   "cell_type": "markdown",
   "id": "8a0dbe32",
   "metadata": {},
   "source": [
    "【2024-07-27】\n",
    "\n",
    "#可以Run Real time or daily \n",
    "\n",
    "#Real Time : 可將昨日推薦股的情況，搭配當日股價去做line推撥   (等比較穩定點，之後再做)\n",
    "\n",
    "#Daily : 可在每日收盤後執行，來複盤 "
   ]
  },
  {
   "cell_type": "code",
   "execution_count": 10,
   "id": "55d6fb1d",
   "metadata": {},
   "outputs": [],
   "source": [
    "import pandas as pd\n",
    "import re\n",
    "import time\n",
    "from datetime import datetime\n",
    "import random\n",
    "import requests\n",
    "from bs4 import BeautifulSoup\n",
    "%run _BaseInfo.ipynb\n",
    "\n",
    "#【產出】資料結果放這裡\n",
    "file_name = 'DailyResultWeb.xlsx'\n",
    "\n",
    "# 備份\n",
    "current_date = datetime.now().strftime(\"%Y-%m-%d\") #動態時間For資料夾\n",
    "_iClouddirectory= fr\"C:\\Users\\user\\iCloudDrive\\PythonProject\\Main\" \n",
    "\n",
    "log_directory='log/RunRealTimeStock'\n",
    "_bk_file_name = f\"{log_directory}/{current_date}{file_name}\" \n",
    "\n",
    "_bk_icloud_ = fr\"{_iClouddirectory}/{log_directory}/{current_date}{file_name}\" "
   ]
  },
  {
   "cell_type": "code",
   "execution_count": 11,
   "id": "3133b448",
   "metadata": {},
   "outputs": [],
   "source": [
    "\n",
    "def yahoo_twstock_crawler(stock):\n",
    "    headers={'User-Agent': 'Mozilla/5.0 (Windows NT 10.0; Win64; x64) \\\n",
    "                           AppleWebKit/537.36 (KHTML, like Gecko) \\\n",
    "                           Chrome/102.0.0.0 Safari/537.36'}\n",
    "    url=f'https://tw.stock.yahoo.com/quote/{stock}' \n",
    "    print(url)\n",
    "    r=requests.get(url, headers=headers)\n",
    "    soup=BeautifulSoup(r.text, 'lxml')\n",
    "    # 存储匹配的标签\n",
    "    tag = []\n",
    "\n",
    "    # 选择器1\n",
    "    tag0=soup.select('span[class*=\"Fz(32px) Fw(b) Lh(1) Mend(16px) D(f) Ai(c)\"]')\n",
    "    if tag0:\n",
    "        tag.append(tag0[0])  # 只添加非空标签的第一个元素\n",
    "\n",
    "    # 选择器2\n",
    "    tag1=soup.select('span[class*=\"Fz(32px) Fw(b) Lh(1) Mend(16px) C(#fff) Px(6px) Py(2px) Bdrs(4px) \"]')\n",
    "    \n",
    "    if tag1:\n",
    "        tag.append(tag1[0])  # 只添加非空标签的第一个元素\n",
    "    # Fz(32px) Fw(b) Lh(1) Mend(16px) C(#fff) Px(6px) Py(2px) Bdrs(4px) Bgc($c-trend-down)\n",
    "    # 选择器3\n",
    "    tag2=soup.select('span[class*=\"Fz(32px) Fw(b) Lh(1) Mend(16px) C(#fff) Px(6px) Py(2px) Bdrs(4px) Bgc($c-trend-up)\"]')\n",
    "    if tag2:\n",
    "        tag.append(tag2[0])  # 只添加非空标签的第一个元素\n",
    "\n",
    "    # 打印结果\n",
    "    print(\"tag0:\", tag0)\n",
    "    print(\"tag1:\", tag1)\n",
    "    print(\"tag2:\", tag2)\n",
    "    print(\"tag:\", tag)\n",
    "    if tag:\n",
    "        price=float(tag[0].text.replace(',',''))\n",
    "        \n",
    "        # 擷取漲跌價\n",
    "        tag=soup.select('span[class*=\"Fz(20px) Fw(b) Lh(1.2) Mend(4px) D(f) Ai(c)\"]')\n",
    "        if 'C($c-trend-up)' in tag[0].attrs['class']:   \n",
    "            change_price='+' + tag[0].text    \n",
    "        elif 'C($c-trend-down)' in tag[0].attrs['class']:   \n",
    "            change_price='-' + tag[0].text   \n",
    "        else:    \n",
    "            change_price=tag[0].text\n",
    "        # 擷取漲跌幅\n",
    "        tag=soup.select('span[class*=\"Jc(fe) Fz(20px) Lh(1.2) Fw(b) D(f) Ai(c)\"]')\n",
    "        change_quote=tag[0].text[1:-1]\n",
    "        if 'C($c-trend-up)' in tag[0].attrs['class']:   \n",
    "            change_quote=f'(+{change_quote})'   \n",
    "        elif 'C($c-trend-down)' in tag[0].attrs['class']:   \n",
    "            change_quote=f'(-{change_quote})'   \n",
    "        else:   \n",
    "            change_quote=f'({change_quote})'\n",
    "\n",
    "        return price, change_price, change_quote\n",
    "    return '-', '-', '-'"
   ]
  },
  {
   "cell_type": "code",
   "execution_count": 12,
   "id": "064223af",
   "metadata": {
    "scrolled": true
   },
   "outputs": [
    {
     "name": "stdout",
     "output_type": "stream",
     "text": [
      "1101\n",
      "https://tw.stock.yahoo.com/quote/1101\n",
      "tag0: [<span class=\"Fz(32px) Fw(b) Lh(1) Mend(16px) D(f) Ai(c) C($c-trend-down)\">32.95</span>]\n",
      "tag1: []\n",
      "tag2: []\n",
      "tag: [<span class=\"Fz(32px) Fw(b) Lh(1) Mend(16px) D(f) Ai(c) C($c-trend-down)\">32.95</span>]\n",
      "1102\n",
      "https://tw.stock.yahoo.com/quote/1102\n",
      "tag0: [<span class=\"Fz(32px) Fw(b) Lh(1) Mend(16px) D(f) Ai(c) C($c-trend-up)\">44.95</span>]\n",
      "tag1: []\n",
      "tag2: []\n",
      "tag: [<span class=\"Fz(32px) Fw(b) Lh(1) Mend(16px) D(f) Ai(c) C($c-trend-up)\">44.95</span>]\n",
      "1103\n",
      "https://tw.stock.yahoo.com/quote/1103\n",
      "tag0: [<span class=\"Fz(32px) Fw(b) Lh(1) Mend(16px) D(f) Ai(c)\">17.90</span>]\n",
      "tag1: []\n",
      "tag2: []\n",
      "tag: [<span class=\"Fz(32px) Fw(b) Lh(1) Mend(16px) D(f) Ai(c)\">17.90</span>]\n"
     ]
    }
   ],
   "source": [
    "stocks=_baseInfo.dropna()['公司代號']\n",
    "alert_msg_list=['\\n注意! 盤中漲跌幅超過 2% :']\n",
    "df= stocks.rename('stock_number').to_frame(\"stock_number\")\n",
    "for stock in stocks:\n",
    "    try:\n",
    "        print(stock)\n",
    "        price, change_price, change_quote=yahoo_twstock_crawler(stock)\n",
    "        alert_msg=f'{stock} {price} {change_price} {change_quote}'\n",
    "        \n",
    "        df.loc[df['stock_number'] == stock, 'now_price'] = price\n",
    "        df.loc[df['stock_number'] == stock, 'change_price'] = change_price\n",
    "        df.loc[df['stock_number'] == stock, 'change_quote'] = change_quote.replace('(','').replace(')','')\n",
    "        \n",
    "        #change_quote2=float(re.search(r'\\d+\\.\\d+', change_quote).group())\n",
    "        #if change_quote2 > 2 or change_quote2 < -2:\n",
    "            #alert_msg_list.append(alert_msg)\n",
    "        time.sleep(random.randint(1, 4))\n",
    "        #df.to_excel(file_name, index=False)\n",
    "        #df.to_excel(_bk_file_name, index=False)\n",
    "    except:\n",
    "        print('error'+stock)"
   ]
  },
  {
   "cell_type": "code",
   "execution_count": 13,
   "id": "6fca169b",
   "metadata": {},
   "outputs": [],
   "source": [
    "df.to_excel(file_name, index=False)\n",
    "df.to_excel(_bk_file_name, index=False)\n",
    "df.to_excel(_bk_icloud_, index=False)\n",
    "\n"
   ]
  },
  {
   "cell_type": "code",
   "execution_count": null,
   "id": "1760a02b",
   "metadata": {},
   "outputs": [],
   "source": []
  }
 ],
 "metadata": {
  "kernelspec": {
   "display_name": "Python 3 (ipykernel)",
   "language": "python",
   "name": "python3"
  },
  "language_info": {
   "codemirror_mode": {
    "name": "ipython",
    "version": 3
   },
   "file_extension": ".py",
   "mimetype": "text/x-python",
   "name": "python",
   "nbconvert_exporter": "python",
   "pygments_lexer": "ipython3",
   "version": "3.10.9"
  }
 },
 "nbformat": 4,
 "nbformat_minor": 5
}
